{
 "cells": [
  {
   "cell_type": "markdown",
   "id": "a4934542",
   "metadata": {},
   "source": [
    "<center>\n",
    "<img src=\"https://upload.wikimedia.org/wikipedia/commons/2/2a/Logo_Nuevo_Ufro.jpg\" alt=\"Logo de la Universidad de La Frontera\" style=\"float: right; width: 100px;\">\n",
    "</center>"
   ]
  },
  {
   "cell_type": "markdown",
   "id": "03f249d9",
   "metadata": {},
   "source": [
    "<center>\n",
    "    <h1 style=\"font-size: 24px\">Resolución Tarea 4 IMA602: Herramientas Básicas para el Análisis de Datos</h1>  \n",
    "</center>  \n",
    "<br>\n",
    "<center>\n",
    "<strong>Nombre:</strong> Natalia Moreira<br>\n",
    "<strong>Profesora:</strong> Dra. Darlin Soto<br>\n",
    "<strong>Fecha:</strong> 23 de Junio de 2023\n",
    "</span>\n",
    "\n",
    "</center>\n"
   ]
  },
  {
   "cell_type": "code",
   "execution_count": null,
   "id": "a42b2c72",
   "metadata": {},
   "outputs": [],
   "source": []
  }
 ],
 "metadata": {
  "kernelspec": {
   "display_name": "Python 3 (ipykernel)",
   "language": "python",
   "name": "python3"
  },
  "language_info": {
   "codemirror_mode": {
    "name": "ipython",
    "version": 3
   },
   "file_extension": ".py",
   "mimetype": "text/x-python",
   "name": "python",
   "nbconvert_exporter": "python",
   "pygments_lexer": "ipython3",
   "version": "3.10.9"
  }
 },
 "nbformat": 4,
 "nbformat_minor": 5
}
