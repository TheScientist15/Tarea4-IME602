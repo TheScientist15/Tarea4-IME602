{
 "cells": [
  {
   "cell_type": "markdown",
   "id": "8f8a402e",
   "metadata": {},
   "source": [
    "<center>\n",
    "<img src=\"https://upload.wikimedia.org/wikipedia/commons/2/2a/Logo_Nuevo_Ufro.jpg\" alt=\"Logo de la Universidad de La Frontera\" style=\"float: right; width: 100px;\">\n",
    "</center>"
   ]
  },
  {
   "cell_type": "markdown",
   "id": "7175575f",
   "metadata": {},
   "source": [
    "<center>\n",
    "    <h1 style=\"font-size: 24px\">Resolución Tarea 4 IMA602: Herramientas Básicas para el Análisis de Datos</h1>  \n",
    "</center>  \n",
    "<br>\n",
    "<center>\n",
    "<strong>Nombre:</strong> Natalia Moreira<br>\n",
    "<strong>Profesora:</strong> Dra. Darlin Soto<br>\n",
    "<strong>Fecha:</strong> 23 de Junio de 2023\n",
    "</span>\n",
    "\n",
    "</center>\n"
   ]
  },
  {
   "cell_type": "markdown",
   "id": "1256cf3d",
   "metadata": {},
   "source": [
    "### 1) Lectura de Datos"
   ]
  },
  {
   "cell_type": "code",
   "execution_count": 1,
   "id": "82cc9658",
   "metadata": {
    "scrolled": true
   },
   "outputs": [
    {
     "name": "stdout",
     "output_type": "stream",
     "text": [
      "Requirement already satisfied: pyreadstat in d:\\users\\descargas\\anaconda3\\lib\\site-packages (1.2.2)\n",
      "Requirement already satisfied: pandas>=1.2.0 in d:\\users\\descargas\\anaconda3\\lib\\site-packages (from pyreadstat) (1.5.3)\n",
      "Requirement already satisfied: numpy>=1.21.0 in d:\\users\\descargas\\anaconda3\\lib\\site-packages (from pandas>=1.2.0->pyreadstat) (1.23.5)\n",
      "Requirement already satisfied: python-dateutil>=2.8.1 in d:\\users\\descargas\\anaconda3\\lib\\site-packages (from pandas>=1.2.0->pyreadstat) (2.8.2)\n",
      "Requirement already satisfied: pytz>=2020.1 in d:\\users\\descargas\\anaconda3\\lib\\site-packages (from pandas>=1.2.0->pyreadstat) (2022.7)\n",
      "Requirement already satisfied: six>=1.5 in d:\\users\\descargas\\anaconda3\\lib\\site-packages (from python-dateutil>=2.8.1->pandas>=1.2.0->pyreadstat) (1.16.0)\n"
     ]
    }
   ],
   "source": [
    "!pip install pyreadstat "
   ]
  },
  {
   "cell_type": "code",
   "execution_count": 2,
   "id": "6161a7e0",
   "metadata": {},
   "outputs": [
    {
     "name": "stdout",
     "output_type": "stream",
     "text": [
      "<class 'pandas.core.frame.DataFrame'>\n",
      "RangeIndex: 216439 entries, 0 to 216438\n",
      "Columns: 804 entries, folio to pobreza_multi_5d\n",
      "dtypes: float64(768), object(36)\n",
      "memory usage: 1.3+ GB\n"
     ]
    },
    {
     "data": {
      "text/html": [
       "<div>\n",
       "<style scoped>\n",
       "    .dataframe tbody tr th:only-of-type {\n",
       "        vertical-align: middle;\n",
       "    }\n",
       "\n",
       "    .dataframe tbody tr th {\n",
       "        vertical-align: top;\n",
       "    }\n",
       "\n",
       "    .dataframe thead th {\n",
       "        text-align: right;\n",
       "    }\n",
       "</style>\n",
       "<table border=\"1\" class=\"dataframe\">\n",
       "  <thead>\n",
       "    <tr style=\"text-align: right;\">\n",
       "      <th></th>\n",
       "      <th>folio</th>\n",
       "      <th>o</th>\n",
       "      <th>id_vivienda</th>\n",
       "      <th>hogar</th>\n",
       "      <th>region</th>\n",
       "      <th>provincia</th>\n",
       "      <th>comuna</th>\n",
       "      <th>zona</th>\n",
       "      <th>expr</th>\n",
       "      <th>expc</th>\n",
       "      <th>...</th>\n",
       "      <th>hh_d_estado</th>\n",
       "      <th>hh_d_servbas</th>\n",
       "      <th>hh_d_entorno</th>\n",
       "      <th>hh_d_accesi</th>\n",
       "      <th>hh_d_medio</th>\n",
       "      <th>hh_d_appart</th>\n",
       "      <th>hh_d_tsocial</th>\n",
       "      <th>hh_d_seg</th>\n",
       "      <th>pobreza_multi_4d</th>\n",
       "      <th>pobreza_multi_5d</th>\n",
       "    </tr>\n",
       "  </thead>\n",
       "  <tbody>\n",
       "    <tr>\n",
       "      <th>0</th>\n",
       "      <td>1.101100e+11</td>\n",
       "      <td>1.0</td>\n",
       "      <td>1.101100e+09</td>\n",
       "      <td>1.0</td>\n",
       "      <td>1.0</td>\n",
       "      <td>11.0</td>\n",
       "      <td>1101.0</td>\n",
       "      <td>1.0</td>\n",
       "      <td>39.0</td>\n",
       "      <td>33.0</td>\n",
       "      <td>...</td>\n",
       "      <td>0.0</td>\n",
       "      <td>1.0</td>\n",
       "      <td>1.0</td>\n",
       "      <td>0.0</td>\n",
       "      <td>1.0</td>\n",
       "      <td>0.0</td>\n",
       "      <td>0.0</td>\n",
       "      <td>1.0</td>\n",
       "      <td>NaN</td>\n",
       "      <td>NaN</td>\n",
       "    </tr>\n",
       "    <tr>\n",
       "      <th>1</th>\n",
       "      <td>1.101100e+11</td>\n",
       "      <td>1.0</td>\n",
       "      <td>1.101100e+09</td>\n",
       "      <td>1.0</td>\n",
       "      <td>1.0</td>\n",
       "      <td>11.0</td>\n",
       "      <td>1101.0</td>\n",
       "      <td>1.0</td>\n",
       "      <td>39.0</td>\n",
       "      <td>33.0</td>\n",
       "      <td>...</td>\n",
       "      <td>1.0</td>\n",
       "      <td>0.0</td>\n",
       "      <td>0.0</td>\n",
       "      <td>0.0</td>\n",
       "      <td>0.0</td>\n",
       "      <td>0.0</td>\n",
       "      <td>0.0</td>\n",
       "      <td>0.0</td>\n",
       "      <td>1.0</td>\n",
       "      <td>1.0</td>\n",
       "    </tr>\n",
       "    <tr>\n",
       "      <th>2</th>\n",
       "      <td>1.101100e+11</td>\n",
       "      <td>1.0</td>\n",
       "      <td>1.101100e+09</td>\n",
       "      <td>1.0</td>\n",
       "      <td>1.0</td>\n",
       "      <td>11.0</td>\n",
       "      <td>1101.0</td>\n",
       "      <td>1.0</td>\n",
       "      <td>39.0</td>\n",
       "      <td>33.0</td>\n",
       "      <td>...</td>\n",
       "      <td>1.0</td>\n",
       "      <td>0.0</td>\n",
       "      <td>1.0</td>\n",
       "      <td>0.0</td>\n",
       "      <td>1.0</td>\n",
       "      <td>0.0</td>\n",
       "      <td>1.0</td>\n",
       "      <td>1.0</td>\n",
       "      <td>NaN</td>\n",
       "      <td>NaN</td>\n",
       "    </tr>\n",
       "    <tr>\n",
       "      <th>3</th>\n",
       "      <td>1.101100e+11</td>\n",
       "      <td>2.0</td>\n",
       "      <td>1.101100e+09</td>\n",
       "      <td>1.0</td>\n",
       "      <td>1.0</td>\n",
       "      <td>11.0</td>\n",
       "      <td>1101.0</td>\n",
       "      <td>1.0</td>\n",
       "      <td>39.0</td>\n",
       "      <td>33.0</td>\n",
       "      <td>...</td>\n",
       "      <td>1.0</td>\n",
       "      <td>0.0</td>\n",
       "      <td>1.0</td>\n",
       "      <td>0.0</td>\n",
       "      <td>1.0</td>\n",
       "      <td>0.0</td>\n",
       "      <td>1.0</td>\n",
       "      <td>1.0</td>\n",
       "      <td>NaN</td>\n",
       "      <td>NaN</td>\n",
       "    </tr>\n",
       "    <tr>\n",
       "      <th>4</th>\n",
       "      <td>1.101100e+11</td>\n",
       "      <td>1.0</td>\n",
       "      <td>1.101100e+09</td>\n",
       "      <td>1.0</td>\n",
       "      <td>1.0</td>\n",
       "      <td>11.0</td>\n",
       "      <td>1101.0</td>\n",
       "      <td>1.0</td>\n",
       "      <td>39.0</td>\n",
       "      <td>33.0</td>\n",
       "      <td>...</td>\n",
       "      <td>1.0</td>\n",
       "      <td>1.0</td>\n",
       "      <td>1.0</td>\n",
       "      <td>0.0</td>\n",
       "      <td>1.0</td>\n",
       "      <td>NaN</td>\n",
       "      <td>1.0</td>\n",
       "      <td>0.0</td>\n",
       "      <td>0.0</td>\n",
       "      <td>NaN</td>\n",
       "    </tr>\n",
       "  </tbody>\n",
       "</table>\n",
       "<p>5 rows × 804 columns</p>\n",
       "</div>"
      ],
      "text/plain": [
       "          folio    o   id_vivienda  hogar  region  provincia  comuna  zona  \\\n",
       "0  1.101100e+11  1.0  1.101100e+09    1.0     1.0       11.0  1101.0   1.0   \n",
       "1  1.101100e+11  1.0  1.101100e+09    1.0     1.0       11.0  1101.0   1.0   \n",
       "2  1.101100e+11  1.0  1.101100e+09    1.0     1.0       11.0  1101.0   1.0   \n",
       "3  1.101100e+11  2.0  1.101100e+09    1.0     1.0       11.0  1101.0   1.0   \n",
       "4  1.101100e+11  1.0  1.101100e+09    1.0     1.0       11.0  1101.0   1.0   \n",
       "\n",
       "   expr  expc  ...  hh_d_estado  hh_d_servbas  hh_d_entorno  hh_d_accesi  \\\n",
       "0  39.0  33.0  ...          0.0           1.0           1.0          0.0   \n",
       "1  39.0  33.0  ...          1.0           0.0           0.0          0.0   \n",
       "2  39.0  33.0  ...          1.0           0.0           1.0          0.0   \n",
       "3  39.0  33.0  ...          1.0           0.0           1.0          0.0   \n",
       "4  39.0  33.0  ...          1.0           1.0           1.0          0.0   \n",
       "\n",
       "   hh_d_medio  hh_d_appart  hh_d_tsocial  hh_d_seg  pobreza_multi_4d  \\\n",
       "0         1.0          0.0           0.0       1.0               NaN   \n",
       "1         0.0          0.0           0.0       0.0               1.0   \n",
       "2         1.0          0.0           1.0       1.0               NaN   \n",
       "3         1.0          0.0           1.0       1.0               NaN   \n",
       "4         1.0          NaN           1.0       0.0               0.0   \n",
       "\n",
       "   pobreza_multi_5d  \n",
       "0               NaN  \n",
       "1               1.0  \n",
       "2               NaN  \n",
       "3               NaN  \n",
       "4               NaN  \n",
       "\n",
       "[5 rows x 804 columns]"
      ]
     },
     "execution_count": 2,
     "metadata": {},
     "output_type": "execute_result"
    }
   ],
   "source": [
    "import pyreadstat\n",
    "# Leer el archivo .sav\n",
    "archivo_sav = 'C:/Users/Thesc/Tarea4/Casen_2017.sav' #Definimos la ruta donde está el archivo .sav\n",
    "datos, metadatos = pyreadstat.read_sav(archivo_sav)\n",
    "datos.info()\n",
    "datos.head() #nos muestra las primeras líneas de los datos"
   ]
  },
  {
   "cell_type": "markdown",
   "id": "3310d37c",
   "metadata": {},
   "source": [
    "Vemos en RangeIndex que el archivo contiene: 216439 entries. Por lo que se valida correctamente el número de observaciones. "
   ]
  },
  {
   "cell_type": "markdown",
   "id": "ab59a03b",
   "metadata": {},
   "source": [
    "### 2)  Formulación de preguntas"
   ]
  },
  {
   "cell_type": "markdown",
   "id": "2ade149b",
   "metadata": {},
   "source": [
    "#### 1.- Variable elegida: e1 ; Tipo de variable: Cualitativa ; Cruce con la variable cualitativa: e2 "
   ]
  },
  {
   "cell_type": "markdown",
   "id": "3a58994d",
   "metadata": {},
   "source": [
    "¿Cuántas personas que saben leer y escribir se encuentran participando en algún programa de nivelación de estudios dirigido a personas que no completaron la enseñanza básica o media en  modalidad flexible?¿Son un porcentaje mayor que las personas que no saben leer ni escribir en modalidad flexible?"
   ]
  },
  {
   "cell_type": "markdown",
   "id": "9108c8dd",
   "metadata": {},
   "source": [
    "#### 2.- Variable elegida: e9sup_g ; Tipo de variable: Cualitativa ; Cruce con la variable cualitativa: e10"
   ]
  },
  {
   "cell_type": "markdown",
   "id": "1cc32203",
   "metadata": {},
   "source": [
    "¿Cuántas personas fueron a Universidades Estatales que tienen gratuidad?¿Es un porcentaje mayor que los que asistieron a Universidades Estatales que no tienen gratuidad?"
   ]
  },
  {
   "cell_type": "markdown",
   "id": "73d0920d",
   "metadata": {},
   "source": [
    "#### 3.- Variable elegida: e7_subarea ; Tipo de variable: Cualitativa "
   ]
  },
  {
   "cell_type": "markdown",
   "id": "7fafb524",
   "metadata": {},
   "source": [
    "En comparación con áreas de estudio similar ¿se puede decir que muchas personas eligieron cs.Físicas?"
   ]
  },
  {
   "cell_type": "markdown",
   "id": "ccce937e",
   "metadata": {},
   "source": [
    "#### 4.- Variable elegida: e7_cod_area ; Tipo de variable: Cualitativa ; Cruce con la variable cualitativa:  e8"
   ]
  },
  {
   "cell_type": "markdown",
   "id": "c461643f",
   "metadata": {},
   "source": [
    "¿Cuántas personas que egresaron de Ciencias naturales, matemáticas y estadística salieron de una Universidad Extranjera el 2017?"
   ]
  },
  {
   "cell_type": "markdown",
   "id": "a883e564",
   "metadata": {},
   "source": [
    "#### 5.- Variable elegida: tot_par ; Tipo de variable: Cuantitativa ; Cruce con la variable cualitativa:  ecivil\n",
    "\n"
   ]
  },
  {
   "cell_type": "markdown",
   "id": "ae38b33c",
   "metadata": {},
   "source": [
    "En los hogares encuestados ¿Cuál es el promedio de parejas casadas en el hogar?"
   ]
  },
  {
   "cell_type": "markdown",
   "id": "f2b35a70",
   "metadata": {},
   "source": [
    "#### 6.- Variable elegida: v28 ; Tipo de variable: Cuantitativa"
   ]
  },
  {
   "cell_type": "markdown",
   "id": "95fe7132",
   "metadata": {},
   "source": [
    "¿Cuántas hogares hay en promedio por vivienda?"
   ]
  },
  {
   "cell_type": "markdown",
   "id": "988fe529",
   "metadata": {},
   "source": [
    "#### 7.- Variable elegida: o25a_hr ; Tipo de variable: Cuantitativa ; Cruce con la variable cualitativa: o25c\n",
    "\n"
   ]
  },
  {
   "cell_type": "markdown",
   "id": "44cc710c",
   "metadata": {},
   "source": [
    "¿Qué porcentaje de personas demorán más de 2hrs en llegar a su trabajo dado que se fueron a pie?\n"
   ]
  },
  {
   "cell_type": "markdown",
   "id": "3288ee20",
   "metadata": {},
   "source": [
    "#### 8.- Variable elegida: r15 ; Tipo de variable: Cuantitativa ; Cruce con la variable cualitativa: r14"
   ]
  },
  {
   "cell_type": "markdown",
   "id": "72ae325d",
   "metadata": {},
   "source": [
    "De las hogares que sí poseen un vehículo de uso laboral o particular, ¿Cuál es el promedio de vehículos en funcionamiento por hogar?"
   ]
  },
  {
   "cell_type": "markdown",
   "id": "482b8240",
   "metadata": {},
   "source": [
    "### 3) Descripción de los datos"
   ]
  },
  {
   "cell_type": "code",
   "execution_count": 5,
   "id": "800eba9d",
   "metadata": {},
   "outputs": [],
   "source": [
    "import pandas as pd"
   ]
  },
  {
   "cell_type": "code",
   "execution_count": 27,
   "id": "10e4c89f",
   "metadata": {},
   "outputs": [
    {
     "data": {
      "text/html": [
       "<div>\n",
       "<style scoped>\n",
       "    .dataframe tbody tr th:only-of-type {\n",
       "        vertical-align: middle;\n",
       "    }\n",
       "\n",
       "    .dataframe tbody tr th {\n",
       "        vertical-align: top;\n",
       "    }\n",
       "\n",
       "    .dataframe thead th {\n",
       "        text-align: right;\n",
       "    }\n",
       "</style>\n",
       "<table border=\"1\" class=\"dataframe\">\n",
       "  <thead>\n",
       "    <tr style=\"text-align: right;\">\n",
       "      <th></th>\n",
       "      <th>Nombre de la Variable</th>\n",
       "      <th>Descripción</th>\n",
       "      <th>¿Tiene valores faltantes?</th>\n",
       "      <th>Porcentaje de datos faltantes</th>\n",
       "    </tr>\n",
       "  </thead>\n",
       "  <tbody>\n",
       "    <tr>\n",
       "      <th>0</th>\n",
       "      <td>e1</td>\n",
       "      <td>Tipo de alfabetización</td>\n",
       "      <td>Sí tiene</td>\n",
       "      <td>19.110%</td>\n",
       "    </tr>\n",
       "    <tr>\n",
       "      <th>1</th>\n",
       "      <td>e9sup_g</td>\n",
       "      <td>Tipo de establecimiento con gratuidad</td>\n",
       "      <td>Sí tiene</td>\n",
       "      <td>94.243%</td>\n",
       "    </tr>\n",
       "    <tr>\n",
       "      <th>2</th>\n",
       "      <td>e7_subarea</td>\n",
       "      <td>Nombre de la carrera o programa de estudios escogido (Cod sub-área)</td>\n",
       "      <td>Sí tiene</td>\n",
       "      <td>77.781%</td>\n",
       "    </tr>\n",
       "    <tr>\n",
       "      <th>3</th>\n",
       "      <td>e8</td>\n",
       "      <td>Tipo de institución en que realizó su educación superior</td>\n",
       "      <td>Sí tiene</td>\n",
       "      <td>83.536%</td>\n",
       "    </tr>\n",
       "    <tr>\n",
       "      <th>4</th>\n",
       "      <td>tot_par</td>\n",
       "      <td>Total parejas en el hogar</td>\n",
       "      <td>No tiene</td>\n",
       "      <td>0%</td>\n",
       "    </tr>\n",
       "    <tr>\n",
       "      <th>5</th>\n",
       "      <td>v28</td>\n",
       "      <td>Número de hogares en la vivienda</td>\n",
       "      <td>No tiene</td>\n",
       "      <td>0%</td>\n",
       "    </tr>\n",
       "    <tr>\n",
       "      <th>6</th>\n",
       "      <td>o25a_hr</td>\n",
       "      <td>Cantidad de horas que tarda en llegar al trabajo</td>\n",
       "      <td>Si tiene</td>\n",
       "      <td>57.301%</td>\n",
       "    </tr>\n",
       "    <tr>\n",
       "      <th>7</th>\n",
       "      <td>025c</td>\n",
       "      <td>Medio de transporte utilizado habitualmente para ir al trabajo</td>\n",
       "      <td>Si tiene</td>\n",
       "      <td>62.529%</td>\n",
       "    </tr>\n",
       "    <tr>\n",
       "      <th>8</th>\n",
       "      <td>e10</td>\n",
       "      <td>Dependencia administrativa del establecimiento</td>\n",
       "      <td>Si tiene</td>\n",
       "      <td>73.146%</td>\n",
       "    </tr>\n",
       "    <tr>\n",
       "      <th>9</th>\n",
       "      <td>r15</td>\n",
       "      <td>Cantidad de vehículos de uso laboral o particular que hay en la vivienda</td>\n",
       "      <td>No tiene</td>\n",
       "      <td>0%</td>\n",
       "    </tr>\n",
       "    <tr>\n",
       "      <th>10</th>\n",
       "      <td>e2</td>\n",
       "      <td>Participacion en algún programa de nivelación de estudios dirigido a personas que no completaron la enseñanza básica o media</td>\n",
       "      <td>Si tiene</td>\n",
       "      <td>19.110%</td>\n",
       "    </tr>\n",
       "    <tr>\n",
       "      <th>11</th>\n",
       "      <td>e7_cod_area</td>\n",
       "      <td>Nombre del área del programa de estudios escogido</td>\n",
       "      <td>Si tiene</td>\n",
       "      <td>77.781%</td>\n",
       "    </tr>\n",
       "    <tr>\n",
       "      <th>12</th>\n",
       "      <td>r14</td>\n",
       "      <td>Algún miembro del hogar es dueño de vehículo de uso laboral o particular</td>\n",
       "      <td>Si tiene</td>\n",
       "      <td>67.220%</td>\n",
       "    </tr>\n",
       "  </tbody>\n",
       "</table>\n",
       "</div>"
      ],
      "text/plain": [
       "   Nombre de la Variable  \\\n",
       "0                     e1   \n",
       "1                e9sup_g   \n",
       "2             e7_subarea   \n",
       "3                     e8   \n",
       "4                tot_par   \n",
       "5                    v28   \n",
       "6                o25a_hr   \n",
       "7                   025c   \n",
       "8                    e10   \n",
       "9                    r15   \n",
       "10                    e2   \n",
       "11           e7_cod_area   \n",
       "12                   r14   \n",
       "\n",
       "                                                                                                                     Descripción  \\\n",
       "0                                                                                                         Tipo de alfabetización   \n",
       "1                                                                                          Tipo de establecimiento con gratuidad   \n",
       "2                                                            Nombre de la carrera o programa de estudios escogido (Cod sub-área)   \n",
       "3                                                                       Tipo de institución en que realizó su educación superior   \n",
       "4                                                                                                      Total parejas en el hogar   \n",
       "5                                                                                               Número de hogares en la vivienda   \n",
       "6                                                                               Cantidad de horas que tarda en llegar al trabajo   \n",
       "7                                                                 Medio de transporte utilizado habitualmente para ir al trabajo   \n",
       "8                                                                                 Dependencia administrativa del establecimiento   \n",
       "9                                                       Cantidad de vehículos de uso laboral o particular que hay en la vivienda   \n",
       "10  Participacion en algún programa de nivelación de estudios dirigido a personas que no completaron la enseñanza básica o media   \n",
       "11                                                                             Nombre del área del programa de estudios escogido   \n",
       "12                                                      Algún miembro del hogar es dueño de vehículo de uso laboral o particular   \n",
       "\n",
       "   ¿Tiene valores faltantes? Porcentaje de datos faltantes  \n",
       "0                   Sí tiene                       19.110%  \n",
       "1                   Sí tiene                       94.243%  \n",
       "2                   Sí tiene                       77.781%  \n",
       "3                   Sí tiene                       83.536%  \n",
       "4                   No tiene                            0%  \n",
       "5                   No tiene                            0%  \n",
       "6                   Si tiene                       57.301%  \n",
       "7                   Si tiene                       62.529%  \n",
       "8                   Si tiene                       73.146%  \n",
       "9                   No tiene                            0%  \n",
       "10                  Si tiene                       19.110%  \n",
       "11                  Si tiene                       77.781%  \n",
       "12                  Si tiene                       67.220%  "
      ]
     },
     "execution_count": 27,
     "metadata": {},
     "output_type": "execute_result"
    }
   ],
   "source": [
    "descripVariables = [\n",
    "    ['e1', 'Tipo de alfabetización', 'Sí tiene', '19.110%'],\n",
    "    ['e9sup_g', 'Tipo de establecimiento con gratuidad', 'Sí tiene', '94.243%'],\n",
    "    ['e7_subarea', 'Nombre de la carrera o programa de estudios escogido (Cod sub-área)', 'Sí tiene', '77.781%'],\n",
    "    ['e8', 'Tipo de institución en que realizó su educación superior', 'Sí tiene', '83.536%'],\n",
    "    ['tot_par', 'Total parejas en el hogar', 'No tiene', '0%'],\n",
    "    ['v28', 'Número de hogares en la vivienda', 'No tiene', '0%'],\n",
    "    ['o25a_hr', 'Cantidad de horas que tarda en llegar al trabajo', 'Si tiene', '57.301%'],\n",
    "    ['025c','Medio de transporte utilizado habitualmente para ir al trabajo','Si tiene', '62.529%'],\n",
    "    ['e10','Dependencia administrativa del establecimiento','Si tiene','73.146%'],\n",
    "    ['r15', 'Cantidad de vehículos de uso laboral o particular que hay en la vivienda', 'No tiene', '0%'],\n",
    "    ['e2','Participacion en algún programa de nivelación de estudios dirigido a personas que no completaron la enseñanza básica o media','Si tiene', '19.110%'],\n",
    "    ['e7_cod_area','Nombre del área del programa de estudios escogido','Si tiene','77.781%'],\n",
    "    ['r14','Algún miembro del hogar es dueño de vehículo de uso laboral o particular', 'Si tiene','67.220%']\n",
    "]\n",
    "\n",
    "tabla = pd.DataFrame(descripVariables, columns=['Nombre de la Variable', 'Descripción', '¿Tiene valores faltantes?', 'Porcentaje de datos faltantes'])\n",
    "\n",
    "# Ajustar el ancho de la columna de Descripción para que no se vea cortada\n",
    "pd.set_option('display.max_colwidth', None)\n",
    "\n",
    "# Mostrar la tabla\n",
    "tabla\n",
    "\n"
   ]
  },
  {
   "cell_type": "markdown",
   "id": "a4c7f861",
   "metadata": {},
   "source": [
    "Para ver los datos faltantes:"
   ]
  },
  {
   "cell_type": "code",
   "execution_count": 37,
   "id": "8c9e5472",
   "metadata": {
    "scrolled": true
   },
   "outputs": [
    {
     "data": {
      "text/plain": [
       "0         NaN\n",
       "1         NaN\n",
       "2         NaN\n",
       "3         NaN\n",
       "4         2.0\n",
       "         ... \n",
       "216434    NaN\n",
       "216435    NaN\n",
       "216436    NaN\n",
       "216437    NaN\n",
       "216438    NaN\n",
       "Name: e8, Length: 216439, dtype: float64"
      ]
     },
     "execution_count": 37,
     "metadata": {},
     "output_type": "execute_result"
    }
   ],
   "source": [
    "datos['e8']"
   ]
  },
  {
   "cell_type": "code",
   "execution_count": 47,
   "id": "601081ef",
   "metadata": {
    "scrolled": true
   },
   "outputs": [
    {
     "data": {
      "text/plain": [
       "83.53670087183917"
      ]
     },
     "execution_count": 47,
     "metadata": {},
     "output_type": "execute_result"
    }
   ],
   "source": [
    "datos.e8.isnull().sum()/len(datos)*100\n",
    "#Usamos data.variable.isnull().sum()/len(data)*100 para cuantificar la cantidad de datos faltantes en una variable"
   ]
  },
  {
   "cell_type": "code",
   "execution_count": 23,
   "id": "f2f30b3f",
   "metadata": {},
   "outputs": [
    {
     "data": {
      "text/plain": [
       "0         1.0\n",
       "1         1.0\n",
       "2         1.0\n",
       "3         1.0\n",
       "4         1.0\n",
       "         ... \n",
       "216434    1.0\n",
       "216435    1.0\n",
       "216436    1.0\n",
       "216437    2.0\n",
       "216438    1.0\n",
       "Name: e1, Length: 216439, dtype: float64"
      ]
     },
     "execution_count": 23,
     "metadata": {},
     "output_type": "execute_result"
    }
   ],
   "source": [
    "datos['e1']"
   ]
  },
  {
   "cell_type": "code",
   "execution_count": 24,
   "id": "f261f347",
   "metadata": {},
   "outputs": [
    {
     "data": {
      "text/plain": [
       "19.11069631628311"
      ]
     },
     "execution_count": 24,
     "metadata": {},
     "output_type": "execute_result"
    }
   ],
   "source": [
    "datos.e1.isnull().sum()/len(datos)*100"
   ]
  },
  {
   "cell_type": "code",
   "execution_count": 25,
   "id": "3acdccc2",
   "metadata": {},
   "outputs": [
    {
     "data": {
      "text/plain": [
       "0         3.0\n",
       "1         3.0\n",
       "2         3.0\n",
       "3         3.0\n",
       "4         3.0\n",
       "         ... \n",
       "216434    3.0\n",
       "216435    3.0\n",
       "216436    3.0\n",
       "216437    3.0\n",
       "216438    2.0\n",
       "Name: e2, Length: 216439, dtype: float64"
      ]
     },
     "execution_count": 25,
     "metadata": {},
     "output_type": "execute_result"
    }
   ],
   "source": [
    "datos['e2']"
   ]
  },
  {
   "cell_type": "code",
   "execution_count": 26,
   "id": "902fc8c8",
   "metadata": {},
   "outputs": [
    {
     "data": {
      "text/plain": [
       "19.11069631628311"
      ]
     },
     "execution_count": 26,
     "metadata": {},
     "output_type": "execute_result"
    }
   ],
   "source": [
    "datos.e2.isnull().sum()/len(datos)*100"
   ]
  },
  {
   "cell_type": "code",
   "execution_count": 8,
   "id": "5439f8e7",
   "metadata": {},
   "outputs": [
    {
     "data": {
      "text/plain": [
       "0          NaN\n",
       "1          NaN\n",
       "2          NaN\n",
       "3          NaN\n",
       "4          NaN\n",
       "          ... \n",
       "216434     NaN\n",
       "216435     NaN\n",
       "216436     NaN\n",
       "216437     NaN\n",
       "216438    99.0\n",
       "Name: e10, Length: 216439, dtype: float64"
      ]
     },
     "execution_count": 8,
     "metadata": {},
     "output_type": "execute_result"
    }
   ],
   "source": [
    "datos['e10']"
   ]
  },
  {
   "cell_type": "code",
   "execution_count": 10,
   "id": "75025934",
   "metadata": {},
   "outputs": [
    {
     "data": {
      "text/plain": [
       "73.1462444383868"
      ]
     },
     "execution_count": 10,
     "metadata": {},
     "output_type": "execute_result"
    }
   ],
   "source": [
    "datos.e10.isnull().sum()/len(datos)*100"
   ]
  },
  {
   "cell_type": "code",
   "execution_count": 28,
   "id": "60f19044",
   "metadata": {},
   "outputs": [
    {
     "data": {
      "text/plain": [
       "0        NaN\n",
       "1        NaN\n",
       "2        NaN\n",
       "3        NaN\n",
       "4        NaN\n",
       "          ..\n",
       "216434   NaN\n",
       "216435   NaN\n",
       "216436   NaN\n",
       "216437   NaN\n",
       "216438   NaN\n",
       "Name: e9sup_g, Length: 216439, dtype: float64"
      ]
     },
     "execution_count": 28,
     "metadata": {},
     "output_type": "execute_result"
    }
   ],
   "source": [
    "datos['e9sup_g']"
   ]
  },
  {
   "cell_type": "code",
   "execution_count": 40,
   "id": "d7c0a6ba",
   "metadata": {},
   "outputs": [
    {
     "data": {
      "text/plain": [
       "94.24318168167474"
      ]
     },
     "execution_count": 40,
     "metadata": {},
     "output_type": "execute_result"
    }
   ],
   "source": [
    "datos.e9sup_g.isnull().sum()/len(datos)*100"
   ]
  },
  {
   "cell_type": "code",
   "execution_count": 12,
   "id": "c3f798a3",
   "metadata": {},
   "outputs": [
    {
     "data": {
      "text/plain": [
       "0         NaN\n",
       "1         NaN\n",
       "2         NaN\n",
       "3         NaN\n",
       "4         7.0\n",
       "         ... \n",
       "216434    NaN\n",
       "216435    NaN\n",
       "216436    NaN\n",
       "216437    NaN\n",
       "216438    NaN\n",
       "Name: e7_cod_area, Length: 216439, dtype: float64"
      ]
     },
     "execution_count": 12,
     "metadata": {},
     "output_type": "execute_result"
    }
   ],
   "source": [
    "datos['e7_cod_area']"
   ]
  },
  {
   "cell_type": "code",
   "execution_count": 13,
   "id": "48879349",
   "metadata": {},
   "outputs": [
    {
     "data": {
      "text/plain": [
       "77.78126862534016"
      ]
     },
     "execution_count": 13,
     "metadata": {},
     "output_type": "execute_result"
    }
   ],
   "source": [
    "datos.e7_cod_area.isnull().sum()/len(datos)*100"
   ]
  },
  {
   "cell_type": "code",
   "execution_count": 29,
   "id": "fb152b88",
   "metadata": {},
   "outputs": [
    {
     "data": {
      "text/plain": [
       "0          NaN\n",
       "1          NaN\n",
       "2          NaN\n",
       "3          NaN\n",
       "4         71.0\n",
       "          ... \n",
       "216434     NaN\n",
       "216435     NaN\n",
       "216436     NaN\n",
       "216437     NaN\n",
       "216438     NaN\n",
       "Name: e7_subarea, Length: 216439, dtype: float64"
      ]
     },
     "execution_count": 29,
     "metadata": {},
     "output_type": "execute_result"
    }
   ],
   "source": [
    "datos['e7_subarea']"
   ]
  },
  {
   "cell_type": "code",
   "execution_count": 41,
   "id": "02452233",
   "metadata": {},
   "outputs": [
    {
     "data": {
      "text/plain": [
       "77.78126862534016"
      ]
     },
     "execution_count": 41,
     "metadata": {},
     "output_type": "execute_result"
    }
   ],
   "source": [
    "datos.e7_subarea.isnull().sum()/len(datos)*100"
   ]
  },
  {
   "cell_type": "code",
   "execution_count": 19,
   "id": "76ec3eb1",
   "metadata": {},
   "outputs": [
    {
     "data": {
      "text/plain": [
       "0         0.0\n",
       "1         0.0\n",
       "2         0.0\n",
       "3         0.0\n",
       "4         0.0\n",
       "         ... \n",
       "216434    NaN\n",
       "216435    0.0\n",
       "216436    NaN\n",
       "216437    0.0\n",
       "216438    0.0\n",
       "Name: o25a_hr, Length: 216439, dtype: float64"
      ]
     },
     "execution_count": 19,
     "metadata": {},
     "output_type": "execute_result"
    }
   ],
   "source": [
    "datos['o25a_hr']"
   ]
  },
  {
   "cell_type": "code",
   "execution_count": 20,
   "id": "038d03dc",
   "metadata": {},
   "outputs": [
    {
     "data": {
      "text/plain": [
       "57.30113334472993"
      ]
     },
     "execution_count": 20,
     "metadata": {},
     "output_type": "execute_result"
    }
   ],
   "source": [
    "datos.o25a_hr.isnull().sum()/len(datos)*100"
   ]
  },
  {
   "cell_type": "code",
   "execution_count": 22,
   "id": "d1f6048a",
   "metadata": {},
   "outputs": [
    {
     "data": {
      "text/plain": [
       "0         3.0\n",
       "1         3.0\n",
       "2         3.0\n",
       "3         3.0\n",
       "4         4.0\n",
       "         ... \n",
       "216434    NaN\n",
       "216435    3.0\n",
       "216436    NaN\n",
       "216437    NaN\n",
       "216438    NaN\n",
       "Name: o25c, Length: 216439, dtype: float64"
      ]
     },
     "execution_count": 22,
     "metadata": {},
     "output_type": "execute_result"
    }
   ],
   "source": [
    "datos['o25c']"
   ]
  },
  {
   "cell_type": "code",
   "execution_count": 23,
   "id": "6201842c",
   "metadata": {},
   "outputs": [
    {
     "data": {
      "text/plain": [
       "62.529858297256965"
      ]
     },
     "execution_count": 23,
     "metadata": {},
     "output_type": "execute_result"
    }
   ],
   "source": [
    "datos.o25c.isnull().sum()/len(datos)*100"
   ]
  },
  {
   "cell_type": "code",
   "execution_count": 31,
   "id": "8be1d484",
   "metadata": {},
   "outputs": [
    {
     "data": {
      "text/plain": [
       "0         1.0\n",
       "1         1.0\n",
       "2         1.0\n",
       "3         1.0\n",
       "4         1.0\n",
       "         ... \n",
       "216434    1.0\n",
       "216435    1.0\n",
       "216436    1.0\n",
       "216437    1.0\n",
       "216438    1.0\n",
       "Name: v28, Length: 216439, dtype: float64"
      ]
     },
     "execution_count": 31,
     "metadata": {},
     "output_type": "execute_result"
    }
   ],
   "source": [
    "datos['v28']"
   ]
  },
  {
   "cell_type": "code",
   "execution_count": 43,
   "id": "2f337be5",
   "metadata": {},
   "outputs": [
    {
     "data": {
      "text/plain": [
       "0.0"
      ]
     },
     "execution_count": 43,
     "metadata": {},
     "output_type": "execute_result"
    }
   ],
   "source": [
    "datos.v28.isnull().sum()/len(datos)*100"
   ]
  },
  {
   "cell_type": "code",
   "execution_count": 32,
   "id": "f4141625",
   "metadata": {},
   "outputs": [
    {
     "data": {
      "text/plain": [
       "0         1.0\n",
       "1         1.0\n",
       "2         2.0\n",
       "3         2.0\n",
       "4         3.0\n",
       "         ... \n",
       "216434    2.0\n",
       "216435    2.0\n",
       "216436    2.0\n",
       "216437    2.0\n",
       "216438    1.0\n",
       "Name: tot_per, Length: 216439, dtype: float64"
      ]
     },
     "execution_count": 32,
     "metadata": {},
     "output_type": "execute_result"
    }
   ],
   "source": [
    "datos['tot_per']"
   ]
  },
  {
   "cell_type": "code",
   "execution_count": 44,
   "id": "d3088b8a",
   "metadata": {},
   "outputs": [
    {
     "data": {
      "text/plain": [
       "0.0"
      ]
     },
     "execution_count": 44,
     "metadata": {},
     "output_type": "execute_result"
    }
   ],
   "source": [
    "datos.tot_per.isnull().sum()/len(datos)*100"
   ]
  },
  {
   "cell_type": "code",
   "execution_count": 25,
   "id": "20622aed",
   "metadata": {},
   "outputs": [
    {
     "data": {
      "text/plain": [
       "0         2.0\n",
       "1         2.0\n",
       "2         2.0\n",
       "3         NaN\n",
       "4         2.0\n",
       "         ... \n",
       "216434    1.0\n",
       "216435    NaN\n",
       "216436    2.0\n",
       "216437    NaN\n",
       "216438    1.0\n",
       "Name: r14, Length: 216439, dtype: float64"
      ]
     },
     "execution_count": 25,
     "metadata": {},
     "output_type": "execute_result"
    }
   ],
   "source": [
    "datos['r14']"
   ]
  },
  {
   "cell_type": "code",
   "execution_count": 26,
   "id": "0cb2012f",
   "metadata": {},
   "outputs": [
    {
     "data": {
      "text/plain": [
       "67.22032535726001"
      ]
     },
     "execution_count": 26,
     "metadata": {},
     "output_type": "execute_result"
    }
   ],
   "source": [
    "datos.r14.isnull().sum()/len(datos)*100"
   ]
  },
  {
   "cell_type": "markdown",
   "id": "b148f511",
   "metadata": {},
   "source": [
    "### 4) Estadísticas descriptivas"
   ]
  },
  {
   "cell_type": "markdown",
   "id": "ac35af4a",
   "metadata": {},
   "source": [
    "#### Calculamos las medidas descriptivas:\n"
   ]
  },
  {
   "cell_type": "code",
   "execution_count": 50,
   "id": "558dd256",
   "metadata": {},
   "outputs": [],
   "source": [
    "import numpy as np\n",
    "import pandas as pd\n",
    "import matplotlib.pyplot as plt\n",
    "import seaborn as sns"
   ]
  },
  {
   "cell_type": "code",
   "execution_count": 3,
   "id": "bb813530",
   "metadata": {},
   "outputs": [
    {
     "data": {
      "text/html": [
       "<div>\n",
       "<style scoped>\n",
       "    .dataframe tbody tr th:only-of-type {\n",
       "        vertical-align: middle;\n",
       "    }\n",
       "\n",
       "    .dataframe tbody tr th {\n",
       "        vertical-align: top;\n",
       "    }\n",
       "\n",
       "    .dataframe thead th {\n",
       "        text-align: right;\n",
       "    }\n",
       "</style>\n",
       "<table border=\"1\" class=\"dataframe\">\n",
       "  <thead>\n",
       "    <tr style=\"text-align: right;\">\n",
       "      <th></th>\n",
       "      <th>folio</th>\n",
       "      <th>o</th>\n",
       "      <th>id_vivienda</th>\n",
       "      <th>hogar</th>\n",
       "      <th>region</th>\n",
       "      <th>provincia</th>\n",
       "      <th>comuna</th>\n",
       "      <th>zona</th>\n",
       "      <th>expr</th>\n",
       "      <th>expc</th>\n",
       "      <th>...</th>\n",
       "      <th>hh_d_estado</th>\n",
       "      <th>hh_d_servbas</th>\n",
       "      <th>hh_d_entorno</th>\n",
       "      <th>hh_d_accesi</th>\n",
       "      <th>hh_d_medio</th>\n",
       "      <th>hh_d_appart</th>\n",
       "      <th>hh_d_tsocial</th>\n",
       "      <th>hh_d_seg</th>\n",
       "      <th>pobreza_multi_4d</th>\n",
       "      <th>pobreza_multi_5d</th>\n",
       "    </tr>\n",
       "  </thead>\n",
       "  <tbody>\n",
       "    <tr>\n",
       "      <th>mean</th>\n",
       "      <td>8.704111e+11</td>\n",
       "      <td>2.425288</td>\n",
       "      <td>8.704111e+09</td>\n",
       "      <td>1.037392</td>\n",
       "      <td>8.812002</td>\n",
       "      <td>89.989614</td>\n",
       "      <td>9004.354456</td>\n",
       "      <td>1.187891</td>\n",
       "      <td>82.274516</td>\n",
       "      <td>82.097801</td>\n",
       "      <td>...</td>\n",
       "      <td>0.147231</td>\n",
       "      <td>0.090287</td>\n",
       "      <td>0.101277</td>\n",
       "      <td>0.059077</td>\n",
       "      <td>0.043981</td>\n",
       "      <td>0.061028</td>\n",
       "      <td>0.119724</td>\n",
       "      <td>0.094760</td>\n",
       "      <td>0.195730</td>\n",
       "      <td>0.217706</td>\n",
       "    </tr>\n",
       "    <tr>\n",
       "      <th>std</th>\n",
       "      <td>3.926348e+11</td>\n",
       "      <td>1.462053</td>\n",
       "      <td>3.926348e+09</td>\n",
       "      <td>0.229385</td>\n",
       "      <td>4.201065</td>\n",
       "      <td>41.794847</td>\n",
       "      <td>4181.203296</td>\n",
       "      <td>0.390626</td>\n",
       "      <td>87.361692</td>\n",
       "      <td>84.118093</td>\n",
       "      <td>...</td>\n",
       "      <td>0.354337</td>\n",
       "      <td>0.286592</td>\n",
       "      <td>0.301696</td>\n",
       "      <td>0.235769</td>\n",
       "      <td>0.205053</td>\n",
       "      <td>0.239383</td>\n",
       "      <td>0.324639</td>\n",
       "      <td>0.292884</td>\n",
       "      <td>0.396763</td>\n",
       "      <td>0.412688</td>\n",
       "    </tr>\n",
       "    <tr>\n",
       "      <th>min</th>\n",
       "      <td>1.101100e+11</td>\n",
       "      <td>1.000000</td>\n",
       "      <td>1.101100e+09</td>\n",
       "      <td>1.000000</td>\n",
       "      <td>1.000000</td>\n",
       "      <td>11.000000</td>\n",
       "      <td>1101.000000</td>\n",
       "      <td>1.000000</td>\n",
       "      <td>2.000000</td>\n",
       "      <td>2.000000</td>\n",
       "      <td>...</td>\n",
       "      <td>0.000000</td>\n",
       "      <td>0.000000</td>\n",
       "      <td>0.000000</td>\n",
       "      <td>0.000000</td>\n",
       "      <td>0.000000</td>\n",
       "      <td>0.000000</td>\n",
       "      <td>0.000000</td>\n",
       "      <td>0.000000</td>\n",
       "      <td>0.000000</td>\n",
       "      <td>0.000000</td>\n",
       "    </tr>\n",
       "    <tr>\n",
       "      <th>25%</th>\n",
       "      <td>5.804101e+11</td>\n",
       "      <td>1.000000</td>\n",
       "      <td>5.804101e+09</td>\n",
       "      <td>1.000000</td>\n",
       "      <td>5.000000</td>\n",
       "      <td>58.000000</td>\n",
       "      <td>5804.000000</td>\n",
       "      <td>1.000000</td>\n",
       "      <td>33.000000</td>\n",
       "      <td>32.000000</td>\n",
       "      <td>...</td>\n",
       "      <td>0.000000</td>\n",
       "      <td>0.000000</td>\n",
       "      <td>0.000000</td>\n",
       "      <td>0.000000</td>\n",
       "      <td>0.000000</td>\n",
       "      <td>0.000000</td>\n",
       "      <td>0.000000</td>\n",
       "      <td>0.000000</td>\n",
       "      <td>0.000000</td>\n",
       "      <td>0.000000</td>\n",
       "    </tr>\n",
       "    <tr>\n",
       "      <th>50%</th>\n",
       "      <td>8.401102e+11</td>\n",
       "      <td>2.000000</td>\n",
       "      <td>8.401102e+09</td>\n",
       "      <td>1.000000</td>\n",
       "      <td>9.000000</td>\n",
       "      <td>91.000000</td>\n",
       "      <td>9101.000000</td>\n",
       "      <td>1.000000</td>\n",
       "      <td>63.000000</td>\n",
       "      <td>62.000000</td>\n",
       "      <td>...</td>\n",
       "      <td>0.000000</td>\n",
       "      <td>0.000000</td>\n",
       "      <td>0.000000</td>\n",
       "      <td>0.000000</td>\n",
       "      <td>0.000000</td>\n",
       "      <td>0.000000</td>\n",
       "      <td>0.000000</td>\n",
       "      <td>0.000000</td>\n",
       "      <td>0.000000</td>\n",
       "      <td>0.000000</td>\n",
       "    </tr>\n",
       "    <tr>\n",
       "      <th>75%</th>\n",
       "      <td>1.310910e+12</td>\n",
       "      <td>3.000000</td>\n",
       "      <td>1.310910e+10</td>\n",
       "      <td>1.000000</td>\n",
       "      <td>13.000000</td>\n",
       "      <td>131.000000</td>\n",
       "      <td>13115.000000</td>\n",
       "      <td>1.000000</td>\n",
       "      <td>104.000000</td>\n",
       "      <td>100.000000</td>\n",
       "      <td>...</td>\n",
       "      <td>0.000000</td>\n",
       "      <td>0.000000</td>\n",
       "      <td>0.000000</td>\n",
       "      <td>0.000000</td>\n",
       "      <td>0.000000</td>\n",
       "      <td>0.000000</td>\n",
       "      <td>0.000000</td>\n",
       "      <td>0.000000</td>\n",
       "      <td>0.000000</td>\n",
       "      <td>0.000000</td>\n",
       "    </tr>\n",
       "    <tr>\n",
       "      <th>max</th>\n",
       "      <td>1.520130e+12</td>\n",
       "      <td>19.000000</td>\n",
       "      <td>1.520130e+10</td>\n",
       "      <td>7.000000</td>\n",
       "      <td>16.000000</td>\n",
       "      <td>163.000000</td>\n",
       "      <td>16305.000000</td>\n",
       "      <td>2.000000</td>\n",
       "      <td>5828.000000</td>\n",
       "      <td>1924.000000</td>\n",
       "      <td>...</td>\n",
       "      <td>1.000000</td>\n",
       "      <td>1.000000</td>\n",
       "      <td>1.000000</td>\n",
       "      <td>1.000000</td>\n",
       "      <td>1.000000</td>\n",
       "      <td>1.000000</td>\n",
       "      <td>1.000000</td>\n",
       "      <td>1.000000</td>\n",
       "      <td>1.000000</td>\n",
       "      <td>1.000000</td>\n",
       "    </tr>\n",
       "  </tbody>\n",
       "</table>\n",
       "<p>7 rows × 804 columns</p>\n",
       "</div>"
      ],
      "text/plain": [
       "             folio          o   id_vivienda     hogar     region   provincia  \\\n",
       "mean  8.704111e+11   2.425288  8.704111e+09  1.037392   8.812002   89.989614   \n",
       "std   3.926348e+11   1.462053  3.926348e+09  0.229385   4.201065   41.794847   \n",
       "min   1.101100e+11   1.000000  1.101100e+09  1.000000   1.000000   11.000000   \n",
       "25%   5.804101e+11   1.000000  5.804101e+09  1.000000   5.000000   58.000000   \n",
       "50%   8.401102e+11   2.000000  8.401102e+09  1.000000   9.000000   91.000000   \n",
       "75%   1.310910e+12   3.000000  1.310910e+10  1.000000  13.000000  131.000000   \n",
       "max   1.520130e+12  19.000000  1.520130e+10  7.000000  16.000000  163.000000   \n",
       "\n",
       "            comuna      zona         expr         expc  ...  hh_d_estado  \\\n",
       "mean   9004.354456  1.187891    82.274516    82.097801  ...     0.147231   \n",
       "std    4181.203296  0.390626    87.361692    84.118093  ...     0.354337   \n",
       "min    1101.000000  1.000000     2.000000     2.000000  ...     0.000000   \n",
       "25%    5804.000000  1.000000    33.000000    32.000000  ...     0.000000   \n",
       "50%    9101.000000  1.000000    63.000000    62.000000  ...     0.000000   \n",
       "75%   13115.000000  1.000000   104.000000   100.000000  ...     0.000000   \n",
       "max   16305.000000  2.000000  5828.000000  1924.000000  ...     1.000000   \n",
       "\n",
       "      hh_d_servbas  hh_d_entorno  hh_d_accesi  hh_d_medio  hh_d_appart  \\\n",
       "mean      0.090287      0.101277     0.059077    0.043981     0.061028   \n",
       "std       0.286592      0.301696     0.235769    0.205053     0.239383   \n",
       "min       0.000000      0.000000     0.000000    0.000000     0.000000   \n",
       "25%       0.000000      0.000000     0.000000    0.000000     0.000000   \n",
       "50%       0.000000      0.000000     0.000000    0.000000     0.000000   \n",
       "75%       0.000000      0.000000     0.000000    0.000000     0.000000   \n",
       "max       1.000000      1.000000     1.000000    1.000000     1.000000   \n",
       "\n",
       "      hh_d_tsocial  hh_d_seg  pobreza_multi_4d  pobreza_multi_5d  \n",
       "mean      0.119724  0.094760          0.195730          0.217706  \n",
       "std       0.324639  0.292884          0.396763          0.412688  \n",
       "min       0.000000  0.000000          0.000000          0.000000  \n",
       "25%       0.000000  0.000000          0.000000          0.000000  \n",
       "50%       0.000000  0.000000          0.000000          0.000000  \n",
       "75%       0.000000  0.000000          0.000000          0.000000  \n",
       "max       1.000000  1.000000          1.000000          1.000000  \n",
       "\n",
       "[7 rows x 804 columns]"
      ]
     },
     "execution_count": 3,
     "metadata": {},
     "output_type": "execute_result"
    }
   ],
   "source": [
    "datos.describe(include='all').loc[['mean', 'std','min','25%','50%','75%','max']] \n",
    "#include='all' calcula las medidas para variables numéricas y categóricas"
   ]
  },
  {
   "cell_type": "markdown",
   "id": "bb44123c",
   "metadata": {},
   "source": [
    "1.-Para las variables e1 y e2:"
   ]
  },
  {
   "cell_type": "code",
   "execution_count": 22,
   "id": "9dddd234",
   "metadata": {},
   "outputs": [
    {
     "data": {
      "text/plain": [
       "305"
      ]
     },
     "execution_count": 22,
     "metadata": {},
     "output_type": "execute_result"
    }
   ],
   "source": [
    "datos[(datos['e1'] == 1) & (datos['e2'] == 2)].shape[0]"
   ]
  },
  {
   "cell_type": "code",
   "execution_count": 74,
   "id": "3990989d",
   "metadata": {},
   "outputs": [
    {
     "data": {
      "text/plain": [
       "2"
      ]
     },
     "execution_count": 74,
     "metadata": {},
     "output_type": "execute_result"
    }
   ],
   "source": [
    "datos[(datos['e1'] == 4) & (datos['e2'] == 2)].shape[0]"
   ]
  },
  {
   "cell_type": "code",
   "execution_count": 84,
   "id": "fc2920b6",
   "metadata": {},
   "outputs": [
    {
     "data": {
      "text/html": [
       "<div>\n",
       "<style scoped>\n",
       "    .dataframe tbody tr th:only-of-type {\n",
       "        vertical-align: middle;\n",
       "    }\n",
       "\n",
       "    .dataframe tbody tr th {\n",
       "        vertical-align: top;\n",
       "    }\n",
       "\n",
       "    .dataframe thead th {\n",
       "        text-align: right;\n",
       "    }\n",
       "</style>\n",
       "<table border=\"1\" class=\"dataframe\">\n",
       "  <thead>\n",
       "    <tr style=\"text-align: right;\">\n",
       "      <th></th>\n",
       "      <th>count</th>\n",
       "      <th>mean</th>\n",
       "      <th>std</th>\n",
       "      <th>min</th>\n",
       "      <th>25%</th>\n",
       "      <th>50%</th>\n",
       "      <th>75%</th>\n",
       "      <th>max</th>\n",
       "    </tr>\n",
       "    <tr>\n",
       "      <th>e1</th>\n",
       "      <th></th>\n",
       "      <th></th>\n",
       "      <th></th>\n",
       "      <th></th>\n",
       "      <th></th>\n",
       "      <th></th>\n",
       "      <th></th>\n",
       "      <th></th>\n",
       "    </tr>\n",
       "  </thead>\n",
       "  <tbody>\n",
       "    <tr>\n",
       "      <th>1.0</th>\n",
       "      <td>167403.0</td>\n",
       "      <td>2.993949</td>\n",
       "      <td>0.101213</td>\n",
       "      <td>1.0</td>\n",
       "      <td>3.0</td>\n",
       "      <td>3.0</td>\n",
       "      <td>3.0</td>\n",
       "      <td>3.0</td>\n",
       "    </tr>\n",
       "    <tr>\n",
       "      <th>2.0</th>\n",
       "      <td>1289.0</td>\n",
       "      <td>2.996121</td>\n",
       "      <td>0.083502</td>\n",
       "      <td>1.0</td>\n",
       "      <td>3.0</td>\n",
       "      <td>3.0</td>\n",
       "      <td>3.0</td>\n",
       "      <td>3.0</td>\n",
       "    </tr>\n",
       "    <tr>\n",
       "      <th>3.0</th>\n",
       "      <td>595.0</td>\n",
       "      <td>2.993277</td>\n",
       "      <td>0.100278</td>\n",
       "      <td>1.0</td>\n",
       "      <td>3.0</td>\n",
       "      <td>3.0</td>\n",
       "      <td>3.0</td>\n",
       "      <td>3.0</td>\n",
       "    </tr>\n",
       "    <tr>\n",
       "      <th>4.0</th>\n",
       "      <td>5646.0</td>\n",
       "      <td>2.999292</td>\n",
       "      <td>0.032594</td>\n",
       "      <td>1.0</td>\n",
       "      <td>3.0</td>\n",
       "      <td>3.0</td>\n",
       "      <td>3.0</td>\n",
       "      <td>3.0</td>\n",
       "    </tr>\n",
       "    <tr>\n",
       "      <th>9.0</th>\n",
       "      <td>143.0</td>\n",
       "      <td>2.972028</td>\n",
       "      <td>0.235691</td>\n",
       "      <td>1.0</td>\n",
       "      <td>3.0</td>\n",
       "      <td>3.0</td>\n",
       "      <td>3.0</td>\n",
       "      <td>3.0</td>\n",
       "    </tr>\n",
       "  </tbody>\n",
       "</table>\n",
       "</div>"
      ],
      "text/plain": [
       "        count      mean       std  min  25%  50%  75%  max\n",
       "e1                                                        \n",
       "1.0  167403.0  2.993949  0.101213  1.0  3.0  3.0  3.0  3.0\n",
       "2.0    1289.0  2.996121  0.083502  1.0  3.0  3.0  3.0  3.0\n",
       "3.0     595.0  2.993277  0.100278  1.0  3.0  3.0  3.0  3.0\n",
       "4.0    5646.0  2.999292  0.032594  1.0  3.0  3.0  3.0  3.0\n",
       "9.0     143.0  2.972028  0.235691  1.0  3.0  3.0  3.0  3.0"
      ]
     },
     "execution_count": 84,
     "metadata": {},
     "output_type": "execute_result"
    }
   ],
   "source": [
    "datos.groupby('e1')['e2'].describe() #datos.groupby('ok')['cuantitativa/cualitativa*'].describe()"
   ]
  },
  {
   "cell_type": "markdown",
   "id": "faa2da04",
   "metadata": {},
   "source": [
    "Interpretación de la Variable e1.1):  \n",
    "Media: Vemos que la mayor parte de las personas encuestadas sabe leer y escribir.\n",
    "Des. Estándar: Los datos no son dispersos, por lo que el promedio es representativo.  \n",
    "Min.:  \n",
    "Max:  "
   ]
  },
  {
   "cell_type": "code",
   "execution_count": 80,
   "id": "a21b027b",
   "metadata": {},
   "outputs": [
    {
     "data": {
      "image/png": "[encoded data removed]",
      "text/plain": [
       "<Figure size 400x400 with 1 Axes>"
      ]
     },
     "metadata": {},
     "output_type": "display_data"
    }
   ],
   "source": [
    "# Datos para el gráfico de torta\n",
    "labels = ['No Leer ni Escribir', 'Leer y Escribir']\n",
    "sizes = [310, 7173]\n",
    "\n",
    "# Colores para las porciones de la torta\n",
    "colors = ['#B19CD9', '#87CEEB']\n",
    "\n",
    "# Crear el gráfico de torta\n",
    "plt.figure(figsize=(4, 4))\n",
    "plt.pie(sizes, labels=labels, colors=colors, autopct='%1.1f%%', startangle=90)\n",
    "\n",
    "# Título del gráfico de torta\n",
    "plt.title('Personas que asisten a nivelación flexible')\n",
    "\n",
    "# Título del eje X\n",
    "plt.xlabel('Categoría')\n",
    "\n",
    "# Título del eje Y\n",
    "plt.ylabel('Porcentaje')\n",
    "\n",
    "# Mostrar el gráfico de torta\n",
    "plt.axis('equal')\n",
    "plt.show()"
   ]
  },
  {
   "cell_type": "markdown",
   "id": "6e0cc19f",
   "metadata": {},
   "source": [
    "Conclusiones del gráfico: 1) La mayoría de las personas que asisten a una nivelación flexible saben leer y escribir, y corresponden al 95.9% del total de asistentes. Esta es una cifra alentadora, ya que indica que la nivelación flexible está brindando oportunidades de aprendizaje a personas que poseen habilidades básicas de lectura y escritura, lo que les facilita el acceso a la educación. 2) Un pequeño porcentaje de las personas que asisten a una nivelación flexible (4.1%) no saben leer ni escribir. Esto resalta la importancia de programas de nivelación flexibles y adaptados a las necesidades individuales, para brindar apoyo y oportunidades de aprendizaje a este grupo de personas que no tuvo la oportunidad de alfabetizarse."
   ]
  },
  {
   "cell_type": "markdown",
   "id": "b1163834",
   "metadata": {},
   "source": [
    "2.-Para las variables  e9sup_g y e10:"
   ]
  },
  {
   "cell_type": "code",
   "execution_count": 28,
   "id": "652739ea",
   "metadata": {},
   "outputs": [
    {
     "data": {
      "text/plain": [
       "2433"
      ]
     },
     "execution_count": 28,
     "metadata": {},
     "output_type": "execute_result"
    }
   ],
   "source": [
    "datos[(datos['e9sup_g'] == 1) & (datos['e10'] == 12)].shape[0]"
   ]
  },
  {
   "cell_type": "code",
   "execution_count": 76,
   "id": "739ef940",
   "metadata": {},
   "outputs": [
    {
     "data": {
      "text/plain": [
       "76"
      ]
     },
     "execution_count": 76,
     "metadata": {},
     "output_type": "execute_result"
    }
   ],
   "source": [
    "datos[(datos['e9sup_g'] == 2) & (datos['e10'] == 12)].shape[0]"
   ]
  },
  {
   "cell_type": "code",
   "execution_count": 86,
   "id": "68f31a7e",
   "metadata": {},
   "outputs": [
    {
     "data": {
      "text/html": [
       "<div>\n",
       "<style scoped>\n",
       "    .dataframe tbody tr th:only-of-type {\n",
       "        vertical-align: middle;\n",
       "    }\n",
       "\n",
       "    .dataframe tbody tr th {\n",
       "        vertical-align: top;\n",
       "    }\n",
       "\n",
       "    .dataframe thead th {\n",
       "        text-align: right;\n",
       "    }\n",
       "</style>\n",
       "<table border=\"1\" class=\"dataframe\">\n",
       "  <thead>\n",
       "    <tr style=\"text-align: right;\">\n",
       "      <th></th>\n",
       "      <th>count</th>\n",
       "      <th>mean</th>\n",
       "      <th>std</th>\n",
       "      <th>min</th>\n",
       "      <th>25%</th>\n",
       "      <th>50%</th>\n",
       "      <th>75%</th>\n",
       "      <th>max</th>\n",
       "    </tr>\n",
       "    <tr>\n",
       "      <th>e9sup_g</th>\n",
       "      <th></th>\n",
       "      <th></th>\n",
       "      <th></th>\n",
       "      <th></th>\n",
       "      <th></th>\n",
       "      <th></th>\n",
       "      <th></th>\n",
       "      <th></th>\n",
       "    </tr>\n",
       "  </thead>\n",
       "  <tbody>\n",
       "    <tr>\n",
       "      <th>0.0</th>\n",
       "      <td>534.0</td>\n",
       "      <td>30.205993</td>\n",
       "      <td>37.293907</td>\n",
       "      <td>8.0</td>\n",
       "      <td>9.0</td>\n",
       "      <td>11.0</td>\n",
       "      <td>13.0</td>\n",
       "      <td>99.0</td>\n",
       "    </tr>\n",
       "    <tr>\n",
       "      <th>1.0</th>\n",
       "      <td>6387.0</td>\n",
       "      <td>12.103805</td>\n",
       "      <td>10.749622</td>\n",
       "      <td>8.0</td>\n",
       "      <td>10.0</td>\n",
       "      <td>11.0</td>\n",
       "      <td>12.0</td>\n",
       "      <td>99.0</td>\n",
       "    </tr>\n",
       "    <tr>\n",
       "      <th>2.0</th>\n",
       "      <td>5539.0</td>\n",
       "      <td>11.524282</td>\n",
       "      <td>12.656257</td>\n",
       "      <td>8.0</td>\n",
       "      <td>9.0</td>\n",
       "      <td>10.0</td>\n",
       "      <td>10.0</td>\n",
       "      <td>99.0</td>\n",
       "    </tr>\n",
       "  </tbody>\n",
       "</table>\n",
       "</div>"
      ],
      "text/plain": [
       "          count       mean        std  min   25%   50%   75%   max\n",
       "e9sup_g                                                           \n",
       "0.0       534.0  30.205993  37.293907  8.0   9.0  11.0  13.0  99.0\n",
       "1.0      6387.0  12.103805  10.749622  8.0  10.0  11.0  12.0  99.0\n",
       "2.0      5539.0  11.524282  12.656257  8.0   9.0  10.0  10.0  99.0"
      ]
     },
     "execution_count": 86,
     "metadata": {},
     "output_type": "execute_result"
    }
   ],
   "source": [
    "datos.groupby('e9sup_g')['e10'].describe()"
   ]
  },
  {
   "cell_type": "markdown",
   "id": "4ef38916",
   "metadata": {},
   "source": [
    "Interpretación de la Variable e9sup_g.1):  \n",
    "Media: Vemos que la mayor parte de las instituciones universitarias estatales tienen gratuidad    \n",
    "Des. Estándar: La muestra no es muy representativa de los datos, debido a su alta dispersion   \n",
    "Min.:  \n",
    "Max: "
   ]
  },
  {
   "cell_type": "code",
   "execution_count": 79,
   "id": "6ef1bfec",
   "metadata": {},
   "outputs": [
    {
     "data": {
      "image/png": "[encoded data removed]",
      "text/plain": [
       "<Figure size 400x400 with 1 Axes>"
      ]
     },
     "metadata": {},
     "output_type": "display_data"
    }
   ],
   "source": [
    "# Datos para el gráfico de torta\n",
    "labels = ['Con Gratuidad', 'Sin Gratuidad']\n",
    "sizes = [2433, 76]\n",
    "colors = ['#FF5733','#FFD700']\n",
    "\n",
    "# Crear el gráfico de torta\n",
    "plt.figure(figsize=(4, 4))\n",
    "plt.pie(sizes, labels=labels, colors=colors, autopct='%1.1f%%', startangle=90)\n",
    "\n",
    "# Agregar título al gráfico\n",
    "plt.title('Estudiantes en Universidades Estatales')\n",
    "\n",
    "# Agregar título al eje X\n",
    "plt.xlabel('Categoría')\n",
    "\n",
    "# Agregar título al eje Y\n",
    "plt.ylabel('Porcentaje')\n",
    "\n",
    "# Mostrar el gráfico\n",
    "plt.axis('equal')\n",
    "plt.show()\n"
   ]
  },
  {
   "cell_type": "markdown",
   "id": "010e8b30",
   "metadata": {},
   "source": [
    "Conclusiones: 1) La mayoría de los estudiantes elige asistir a universidades estatales con gratuidad. Esto indica que el acceso a la educación superior sin costo económico es una opción muy popular entre los estudiantes, lo cual puede ser atribuido a los beneficios económicos y oportunidades de formación que brinda la gratuidad. 2) La baja cantidad de estudiantes que prefieren las Universidades estatales sin gratuidad nos hacen ver que la implementación de la gratuidad en la educación superior ha tenido un impacto positivo significativo en la elección de los estudiantes."
   ]
  },
  {
   "cell_type": "markdown",
   "id": "137f5d5a",
   "metadata": {},
   "source": [
    "3.-Para la variable e7_subarea:"
   ]
  },
  {
   "cell_type": "code",
   "execution_count": 29,
   "id": "f21ab154",
   "metadata": {},
   "outputs": [
    {
     "data": {
      "text/plain": [
       "260"
      ]
     },
     "execution_count": 29,
     "metadata": {},
     "output_type": "execute_result"
    }
   ],
   "source": [
    "datos[(datos['e7_subarea'] == 53)].shape[0]"
   ]
  },
  {
   "cell_type": "code",
   "execution_count": 48,
   "id": "34d4bbbb",
   "metadata": {},
   "outputs": [
    {
     "data": {
      "text/plain": [
       "0.12012622494097644"
      ]
     },
     "execution_count": 48,
     "metadata": {},
     "output_type": "execute_result"
    }
   ],
   "source": [
    "#Calculo de porcentaje\n",
    "Física= (260 / 216439)*100\n",
    "Física"
   ]
  },
  {
   "cell_type": "code",
   "execution_count": 83,
   "id": "37bf23f8",
   "metadata": {},
   "outputs": [
    {
     "data": {
      "text/plain": [
       "3.0812988859919415"
      ]
     },
     "execution_count": 83,
     "metadata": {},
     "output_type": "execute_result"
    }
   ],
   "source": [
    "#Carreras similares\n",
    "CsFisicas= (260/8438)*100\n",
    "CsFisicas"
   ]
  },
  {
   "cell_type": "code",
   "execution_count": 87,
   "id": "ab0c0632",
   "metadata": {},
   "outputs": [
    {
     "data": {
      "text/plain": [
       "count    48090.000000\n",
       "mean       111.273674\n",
       "std        223.171156\n",
       "min          3.000000\n",
       "25%         41.000000\n",
       "50%         71.000000\n",
       "75%         91.000000\n",
       "max        999.000000\n",
       "Name: e7_subarea, dtype: float64"
      ]
     },
     "execution_count": 87,
     "metadata": {},
     "output_type": "execute_result"
    }
   ],
   "source": [
    "datos['e7_subarea'].describe()"
   ]
  },
  {
   "cell_type": "markdown",
   "id": "42789f2e",
   "metadata": {},
   "source": [
    "Interpretación de la Variable e9sup_g.1):  \n",
    "Media: Vemos que la mayor parte de las instituciones universitarias estatales tienen gratuidad    \n",
    "Des. Estándar: La muestra no es muy representativa de los datos, debido a su alta dispersion   \n",
    "Min.:  \n",
    "Max: "
   ]
  },
  {
   "cell_type": "code",
   "execution_count": 92,
   "id": "0bf29c49",
   "metadata": {},
   "outputs": [
    {
     "data": {
      "image/png": "[encoded data removed]",
      "text/plain": [
       "<Figure size 600x600 with 1 Axes>"
      ]
     },
     "metadata": {},
     "output_type": "display_data"
    }
   ],
   "source": [
    "# Datos para el gráfico de barras\n",
    "labels = ['Ciencias Físicas', 'Ingeniería y Profesiones Afines', 'Matemáticas y Estadísticas', 'Cs.Exactas']\n",
    "sizes = [260, 8123, 31, 24]  # Utiliza los valores de la tabla para calcular los tamaños\n",
    "\n",
    "# Colores fríos para las barras\n",
    "colors = ['#6699cc', '#88ccee', '#aaccdd', '#cceeff']\n",
    "\n",
    "# Crear el gráfico de barras\n",
    "plt.figure(figsize=(6, 6))\n",
    "plt.bar(labels, sizes, color=colors)\n",
    "\n",
    "# Agregar etiquetas a las barras\n",
    "for i, size in enumerate(sizes):\n",
    "    plt.text(i, size + 10, str(size), ha='center', va='bottom')\n",
    "\n",
    "# Título del gráfico y ejes\n",
    "plt.title('Comparación entre áreas de estudio similar')\n",
    "plt.xlabel('Áreas de estudio')\n",
    "plt.ylabel('Cantidad de personas')\n",
    "\n",
    "# Rotar etiquetas en el eje x para mayor legibilidad\n",
    "plt.xticks(rotation=45)\n",
    "\n",
    "# Mostrar el gráfico\n",
    "plt.tight_layout()\n",
    "plt.show()"
   ]
  },
  {
   "cell_type": "markdown",
   "id": "c38814fc",
   "metadata": {},
   "source": [
    "Conclusiones: 1) Ciencias Físicas tiene la segunda mayoría en relación a la elección de carreras similares, sin embargo, al comparar con la abismal diferencia que existe entre esta y las más elgida (Ingeniería y afines), vemos que por mucho, las carreras ingenieriles siguen siendo mucho más populares entre los estudiantes. 2) Vemos que para el año que se realizó la encuesta la popularidad de Matemáticas y Estadísticas estuvo muy baja en relación a Cs.Físicas."
   ]
  },
  {
   "cell_type": "markdown",
   "id": "130fc958",
   "metadata": {},
   "source": [
    "4.-Para la variables e7_cod_area y e8:"
   ]
  },
  {
   "cell_type": "code",
   "execution_count": 30,
   "id": "95b03750",
   "metadata": {},
   "outputs": [
    {
     "data": {
      "text/plain": [
       "21"
      ]
     },
     "execution_count": 30,
     "metadata": {},
     "output_type": "execute_result"
    }
   ],
   "source": [
    "datos[(datos['e7_cod_area'] == 5) & (datos['e8'] == 7)].shape[0]"
   ]
  },
  {
   "cell_type": "code",
   "execution_count": 88,
   "id": "c2493cf1",
   "metadata": {},
   "outputs": [
    {
     "data": {
      "text/html": [
       "<div>\n",
       "<style scoped>\n",
       "    .dataframe tbody tr th:only-of-type {\n",
       "        vertical-align: middle;\n",
       "    }\n",
       "\n",
       "    .dataframe tbody tr th {\n",
       "        vertical-align: top;\n",
       "    }\n",
       "\n",
       "    .dataframe thead th {\n",
       "        text-align: right;\n",
       "    }\n",
       "</style>\n",
       "<table border=\"1\" class=\"dataframe\">\n",
       "  <thead>\n",
       "    <tr style=\"text-align: right;\">\n",
       "      <th></th>\n",
       "      <th>count</th>\n",
       "      <th>mean</th>\n",
       "      <th>std</th>\n",
       "      <th>min</th>\n",
       "      <th>25%</th>\n",
       "      <th>50%</th>\n",
       "      <th>75%</th>\n",
       "      <th>max</th>\n",
       "    </tr>\n",
       "    <tr>\n",
       "      <th>e7_cod_area</th>\n",
       "      <th></th>\n",
       "      <th></th>\n",
       "      <th></th>\n",
       "      <th></th>\n",
       "      <th></th>\n",
       "      <th></th>\n",
       "      <th></th>\n",
       "      <th></th>\n",
       "    </tr>\n",
       "  </thead>\n",
       "  <tbody>\n",
       "    <tr>\n",
       "      <th>0.0</th>\n",
       "      <td>4.0</td>\n",
       "      <td>3.000000</td>\n",
       "      <td>1.414214</td>\n",
       "      <td>1.0</td>\n",
       "      <td>2.5</td>\n",
       "      <td>3.5</td>\n",
       "      <td>4.0</td>\n",
       "      <td>4.0</td>\n",
       "    </tr>\n",
       "    <tr>\n",
       "      <th>1.0</th>\n",
       "      <td>6177.0</td>\n",
       "      <td>4.004209</td>\n",
       "      <td>1.458842</td>\n",
       "      <td>1.0</td>\n",
       "      <td>3.0</td>\n",
       "      <td>4.0</td>\n",
       "      <td>5.0</td>\n",
       "      <td>9.0</td>\n",
       "    </tr>\n",
       "    <tr>\n",
       "      <th>2.0</th>\n",
       "      <td>1197.0</td>\n",
       "      <td>3.508772</td>\n",
       "      <td>1.723621</td>\n",
       "      <td>1.0</td>\n",
       "      <td>2.0</td>\n",
       "      <td>3.0</td>\n",
       "      <td>5.0</td>\n",
       "      <td>9.0</td>\n",
       "    </tr>\n",
       "    <tr>\n",
       "      <th>3.0</th>\n",
       "      <td>1236.0</td>\n",
       "      <td>4.085761</td>\n",
       "      <td>1.316021</td>\n",
       "      <td>1.0</td>\n",
       "      <td>3.0</td>\n",
       "      <td>4.0</td>\n",
       "      <td>5.0</td>\n",
       "      <td>9.0</td>\n",
       "    </tr>\n",
       "    <tr>\n",
       "      <th>4.0</th>\n",
       "      <td>7928.0</td>\n",
       "      <td>3.187185</td>\n",
       "      <td>1.738855</td>\n",
       "      <td>1.0</td>\n",
       "      <td>2.0</td>\n",
       "      <td>3.0</td>\n",
       "      <td>5.0</td>\n",
       "      <td>9.0</td>\n",
       "    </tr>\n",
       "    <tr>\n",
       "      <th>5.0</th>\n",
       "      <td>387.0</td>\n",
       "      <td>4.444444</td>\n",
       "      <td>1.399070</td>\n",
       "      <td>1.0</td>\n",
       "      <td>4.0</td>\n",
       "      <td>5.0</td>\n",
       "      <td>5.0</td>\n",
       "      <td>9.0</td>\n",
       "    </tr>\n",
       "    <tr>\n",
       "      <th>6.0</th>\n",
       "      <td>1210.0</td>\n",
       "      <td>3.091736</td>\n",
       "      <td>1.795320</td>\n",
       "      <td>1.0</td>\n",
       "      <td>2.0</td>\n",
       "      <td>2.0</td>\n",
       "      <td>4.0</td>\n",
       "      <td>9.0</td>\n",
       "    </tr>\n",
       "    <tr>\n",
       "      <th>7.0</th>\n",
       "      <td>6633.0</td>\n",
       "      <td>3.524197</td>\n",
       "      <td>1.706369</td>\n",
       "      <td>1.0</td>\n",
       "      <td>2.0</td>\n",
       "      <td>4.0</td>\n",
       "      <td>5.0</td>\n",
       "      <td>9.0</td>\n",
       "    </tr>\n",
       "    <tr>\n",
       "      <th>8.0</th>\n",
       "      <td>1019.0</td>\n",
       "      <td>3.640824</td>\n",
       "      <td>1.653876</td>\n",
       "      <td>1.0</td>\n",
       "      <td>2.0</td>\n",
       "      <td>4.0</td>\n",
       "      <td>5.0</td>\n",
       "      <td>9.0</td>\n",
       "    </tr>\n",
       "    <tr>\n",
       "      <th>9.0</th>\n",
       "      <td>5246.0</td>\n",
       "      <td>3.248761</td>\n",
       "      <td>1.700803</td>\n",
       "      <td>1.0</td>\n",
       "      <td>2.0</td>\n",
       "      <td>3.0</td>\n",
       "      <td>5.0</td>\n",
       "      <td>9.0</td>\n",
       "    </tr>\n",
       "    <tr>\n",
       "      <th>10.0</th>\n",
       "      <td>2031.0</td>\n",
       "      <td>2.792221</td>\n",
       "      <td>1.858851</td>\n",
       "      <td>1.0</td>\n",
       "      <td>2.0</td>\n",
       "      <td>2.0</td>\n",
       "      <td>4.0</td>\n",
       "      <td>9.0</td>\n",
       "    </tr>\n",
       "    <tr>\n",
       "      <th>99.0</th>\n",
       "      <td>2565.0</td>\n",
       "      <td>7.076023</td>\n",
       "      <td>2.947419</td>\n",
       "      <td>1.0</td>\n",
       "      <td>5.0</td>\n",
       "      <td>9.0</td>\n",
       "      <td>9.0</td>\n",
       "      <td>9.0</td>\n",
       "    </tr>\n",
       "  </tbody>\n",
       "</table>\n",
       "</div>"
      ],
      "text/plain": [
       "              count      mean       std  min  25%  50%  75%  max\n",
       "e7_cod_area                                                     \n",
       "0.0             4.0  3.000000  1.414214  1.0  2.5  3.5  4.0  4.0\n",
       "1.0          6177.0  4.004209  1.458842  1.0  3.0  4.0  5.0  9.0\n",
       "2.0          1197.0  3.508772  1.723621  1.0  2.0  3.0  5.0  9.0\n",
       "3.0          1236.0  4.085761  1.316021  1.0  3.0  4.0  5.0  9.0\n",
       "4.0          7928.0  3.187185  1.738855  1.0  2.0  3.0  5.0  9.0\n",
       "5.0           387.0  4.444444  1.399070  1.0  4.0  5.0  5.0  9.0\n",
       "6.0          1210.0  3.091736  1.795320  1.0  2.0  2.0  4.0  9.0\n",
       "7.0          6633.0  3.524197  1.706369  1.0  2.0  4.0  5.0  9.0\n",
       "8.0          1019.0  3.640824  1.653876  1.0  2.0  4.0  5.0  9.0\n",
       "9.0          5246.0  3.248761  1.700803  1.0  2.0  3.0  5.0  9.0\n",
       "10.0         2031.0  2.792221  1.858851  1.0  2.0  2.0  4.0  9.0\n",
       "99.0         2565.0  7.076023  2.947419  1.0  5.0  9.0  9.0  9.0"
      ]
     },
     "execution_count": 88,
     "metadata": {},
     "output_type": "execute_result"
    }
   ],
   "source": [
    "datos.groupby('e7_cod_area')['e8'].describe()"
   ]
  },
  {
   "cell_type": "markdown",
   "id": "0579ea37",
   "metadata": {},
   "source": [
    "Interpretación de la Variable e9sup_g.1):  \n",
    "Media: Vemos que la mayor parte de las instituciones universitarias estatales tienen gratuidad    \n",
    "Des. Estándar: La muestra no es muy representativa de los datos, debido a su alta dispersion   \n",
    "Min.:  \n",
    "Max: "
   ]
  },
  {
   "cell_type": "code",
   "execution_count": 121,
   "id": "f2747e32",
   "metadata": {},
   "outputs": [
    {
     "data": {
      "image/png": "[encoded data removed]",
      "text/plain": [
       "<Figure size 640x480 with 1 Axes>"
      ]
     },
     "metadata": {},
     "output_type": "display_data"
    }
   ],
   "source": [
    "# Datos del histograma\n",
    "counts = [4, 6177, 1197, 1236, 7928, 387, 1210, 6633, 1019, 5246, 2031]\n",
    "bins = range(len(counts) + 1)  # Asegurarse de que la cantidad de bins sea correcta\n",
    "\n",
    "# Crear el histograma con barras de color naranja pastel\n",
    "plt.bar(bins[:-1], counts, color='bisque', edgecolor='black', width=1)\n",
    "\n",
    "# Título y etiquetas de los ejes\n",
    "plt.title('Histograma de la variable e7_cod_area')\n",
    "plt.xlabel('Carreras')\n",
    "plt.ylabel('Frecuencia')\n",
    "\n",
    "# Mostrar el histograma\n",
    "plt.show()"
   ]
  },
  {
   "cell_type": "markdown",
   "id": "64667569",
   "metadata": {},
   "source": [
    "0:Programas y Certificaciones Genéricos                 \n",
    "1: Educación                                            \n",
    "2:Artes y Humanidades                                  \n",
    "3:Ciencias Sociales, Periodismo e Información             \n",
    "4:Administración de Empresas y Derecho                  \n",
    "5: Ciencias naturales,matemáticas y estadística  "
   ]
  },
  {
   "cell_type": "markdown",
   "id": "deac71e7",
   "metadata": {},
   "source": [
    "6:Tecnología de la Información y la Comunicación (TIC)   \n",
    " 7:Ingeniería, Industria y Construcción  \n",
    "8: Agricultura, Silvicultura, Pesca y Veterinaria      \n",
    " 9: Salud y Bienestar      \n",
    " 10: Servicios       "
   ]
  },
  {
   "cell_type": "markdown",
   "id": "68a90938",
   "metadata": {},
   "source": [
    "Conclusiones: 1) Vemos que las carreras más populares son en las áreas de: Administración de empresas y Derecho, Ineginería, Industría y Construcción y por último Salud y Bienestar. 2) Las carreras menos elegidas fueron en el área de: Programas y Certificaciones Genéricos, seguido de Ciencias naturales, matemáticas y estadística y finalmente Agricultura, Silvicultura, Pesca y Veterinaria."
   ]
  },
  {
   "cell_type": "markdown",
   "id": "a4d5686e",
   "metadata": {},
   "source": [
    "5.-Para la variables tot_par y ecivil:"
   ]
  },
  {
   "cell_type": "code",
   "execution_count": 8,
   "id": "c2aa9ac9",
   "metadata": {},
   "outputs": [
    {
     "data": {
      "text/html": [
       "<div>\n",
       "<style scoped>\n",
       "    .dataframe tbody tr th:only-of-type {\n",
       "        vertical-align: middle;\n",
       "    }\n",
       "\n",
       "    .dataframe tbody tr th {\n",
       "        vertical-align: top;\n",
       "    }\n",
       "\n",
       "    .dataframe thead th {\n",
       "        text-align: right;\n",
       "    }\n",
       "</style>\n",
       "<table border=\"1\" class=\"dataframe\">\n",
       "  <thead>\n",
       "    <tr style=\"text-align: right;\">\n",
       "      <th></th>\n",
       "      <th>count</th>\n",
       "      <th>mean</th>\n",
       "      <th>std</th>\n",
       "      <th>min</th>\n",
       "      <th>25%</th>\n",
       "      <th>50%</th>\n",
       "      <th>75%</th>\n",
       "      <th>max</th>\n",
       "    </tr>\n",
       "    <tr>\n",
       "      <th>tot_par</th>\n",
       "      <th></th>\n",
       "      <th></th>\n",
       "      <th></th>\n",
       "      <th></th>\n",
       "      <th></th>\n",
       "      <th></th>\n",
       "      <th></th>\n",
       "      <th></th>\n",
       "    </tr>\n",
       "  </thead>\n",
       "  <tbody>\n",
       "    <tr>\n",
       "      <th>0.0</th>\n",
       "      <td>63547.0</td>\n",
       "      <td>7.412041</td>\n",
       "      <td>1.039256</td>\n",
       "      <td>1.0</td>\n",
       "      <td>7.0</td>\n",
       "      <td>8.0</td>\n",
       "      <td>8.0</td>\n",
       "      <td>8.0</td>\n",
       "    </tr>\n",
       "    <tr>\n",
       "      <th>1.0</th>\n",
       "      <td>141791.0</td>\n",
       "      <td>4.163522</td>\n",
       "      <td>3.296799</td>\n",
       "      <td>1.0</td>\n",
       "      <td>1.0</td>\n",
       "      <td>2.0</td>\n",
       "      <td>8.0</td>\n",
       "      <td>8.0</td>\n",
       "    </tr>\n",
       "    <tr>\n",
       "      <th>2.0</th>\n",
       "      <td>10392.0</td>\n",
       "      <td>3.737779</td>\n",
       "      <td>3.119264</td>\n",
       "      <td>1.0</td>\n",
       "      <td>1.0</td>\n",
       "      <td>2.0</td>\n",
       "      <td>8.0</td>\n",
       "      <td>8.0</td>\n",
       "    </tr>\n",
       "    <tr>\n",
       "      <th>3.0</th>\n",
       "      <td>657.0</td>\n",
       "      <td>3.724505</td>\n",
       "      <td>3.065130</td>\n",
       "      <td>1.0</td>\n",
       "      <td>1.0</td>\n",
       "      <td>2.0</td>\n",
       "      <td>8.0</td>\n",
       "      <td>8.0</td>\n",
       "    </tr>\n",
       "    <tr>\n",
       "      <th>4.0</th>\n",
       "      <td>52.0</td>\n",
       "      <td>4.019231</td>\n",
       "      <td>3.038901</td>\n",
       "      <td>1.0</td>\n",
       "      <td>2.0</td>\n",
       "      <td>2.0</td>\n",
       "      <td>8.0</td>\n",
       "      <td>8.0</td>\n",
       "    </tr>\n",
       "  </tbody>\n",
       "</table>\n",
       "</div>"
      ],
      "text/plain": [
       "            count      mean       std  min  25%  50%  75%  max\n",
       "tot_par                                                       \n",
       "0.0       63547.0  7.412041  1.039256  1.0  7.0  8.0  8.0  8.0\n",
       "1.0      141791.0  4.163522  3.296799  1.0  1.0  2.0  8.0  8.0\n",
       "2.0       10392.0  3.737779  3.119264  1.0  1.0  2.0  8.0  8.0\n",
       "3.0         657.0  3.724505  3.065130  1.0  1.0  2.0  8.0  8.0\n",
       "4.0          52.0  4.019231  3.038901  1.0  2.0  2.0  8.0  8.0"
      ]
     },
     "execution_count": 8,
     "metadata": {},
     "output_type": "execute_result"
    }
   ],
   "source": [
    "datos.groupby('tot_par')['ecivil'].describe()"
   ]
  },
  {
   "cell_type": "markdown",
   "id": "34bbc1a3",
   "metadata": {},
   "source": [
    "Interpretación de la Variable tot_par:    \n",
    "Media: Vemos que el promedio de parejas casadas por hogar es  \n",
    "Des. Estándar: Los datos no son representativos debido a su alta dispersión   \n",
    "Min.: El minimo de parejas casadas por hogar es 0 \n",
    "Max: El máximo de parejas casadas por hogar es  4\n"
   ]
  },
  {
   "cell_type": "code",
   "execution_count": 114,
   "id": "a4080380",
   "metadata": {},
   "outputs": [
    {
     "data": {
      "image/png": "[encoded data removed]",
      "text/plain": [
       "<Figure size 640x480 with 1 Axes>"
      ]
     },
     "metadata": {},
     "output_type": "display_data"
    },
    {
     "name": "stdout",
     "output_type": "stream",
     "text": [
      "La simetría del histograma es: -0.8759618118678327\n"
     ]
    }
   ],
   "source": [
    "# Datos del histograma\n",
    "counts = [63547, 141791, 10392, 657, 52]\n",
    "bins = [0, 1, 2, 3, 4, 5]\n",
    "\n",
    "# Expandir los valores de counts para cada bin\n",
    "expanded_counts = np.repeat(bins[:-1], counts)\n",
    "\n",
    "# Crear el histograma\n",
    "plt.hist(expanded_counts, bins=bins, edgecolor='black', color='aquamarine')\n",
    "\n",
    "# Título y etiquetas de los ejes\n",
    "plt.title('Histograma de tot_par')\n",
    "plt.xlabel('Variable tot_par')\n",
    "plt.ylabel('Frecuencia')\n",
    "\n",
    "# Mostrar el histograma\n",
    "plt.show()\n",
    "\n",
    "# Calcular la simetría del histograma\n",
    "bins_center = 0.5 * (np.array(bins[1:]) + np.array(bins[:-1]))\n",
    "symmetry = np.sum(counts * (bins_center - np.mean(bins_center))) / (np.sum(counts) * np.std(bins_center))\n",
    "\n",
    "print(f\"La simetría del histograma es: {symmetry}\")"
   ]
  },
  {
   "cell_type": "markdown",
   "id": "6f83fb1f",
   "metadata": {},
   "source": [
    "Conclusiones: 1) Vemos que en promedio lo más común es que haya 1 pareja casada por hogar. 2) Vemos que la curva es esgada hacia la derecha y que su coef. de asimetria es negativo lo que puede indicar que hay menos hogares con una mayor cantidad de parejas casadas y más hogares con una cantidad menor de parejas casadas."
   ]
  },
  {
   "cell_type": "markdown",
   "id": "83eabc5a",
   "metadata": {},
   "source": [
    "6.-Para la variable v28: "
   ]
  },
  {
   "cell_type": "code",
   "execution_count": 31,
   "id": "74d4e2ce",
   "metadata": {},
   "outputs": [
    {
     "data": {
      "text/plain": [
       "count    216439.000000\n",
       "mean          1.084966\n",
       "std           0.394928\n",
       "min           1.000000\n",
       "25%           1.000000\n",
       "50%           1.000000\n",
       "75%           1.000000\n",
       "max          10.000000\n",
       "Name: v28, dtype: float64"
      ]
     },
     "execution_count": 31,
     "metadata": {},
     "output_type": "execute_result"
    }
   ],
   "source": [
    "datos['v28'].describe()"
   ]
  },
  {
   "cell_type": "markdown",
   "id": "88416b9a",
   "metadata": {},
   "source": [
    "Interpretación de la Variable tot_par:      \n",
    "Media: Vemos que el promedio de viviendas por hogar es 1 vivienda  \n",
    "Des. Estándar: Como la desviación estándar es aprox. 0.39, esto nos indica que hay poca dispersión o variabilidad en los datos, los valores están relativamente cercanos a la media.   \n",
    "Min.: El minimo de viviendas por hogar es 1 vivienda  \n",
    "Max: El máximo de viviendas por hogar son 4 viviendas  "
   ]
  },
  {
   "cell_type": "code",
   "execution_count": 97,
   "id": "7c1340fc",
   "metadata": {},
   "outputs": [
    {
     "data": {
      "image/png": "[encoded data removed]",
      "text/plain": [
       "<Figure size 800x600 with 1 Axes>"
      ]
     },
     "metadata": {},
     "output_type": "display_data"
    }
   ],
   "source": [
    "# Datos de la variable v28\n",
    "x = [1, 2, 3, 4, 5, 6, 7, 8, 9, 10]\n",
    "y = [203364, 9501, 2562, 635, 219, 46, 67, 23, 7, 15]\n",
    "\n",
    "# Crear el gráfico de barras\n",
    "plt.figure(figsize=(8, 6))\n",
    "plt.bar(x, y, color='lightgreen')\n",
    "\n",
    "# Títulos de los ejes\n",
    "plt.xlabel('Cantidad de viviendas')\n",
    "plt.ylabel('Cantidad de personas')\n",
    "\n",
    "# Mostrar el gráfico\n",
    "plt.show()"
   ]
  },
  {
   "cell_type": "markdown",
   "id": "11d6dc37",
   "metadata": {},
   "source": [
    "Conclusiones: 1) La mayoría de las viviendas tiene solamente un hogar 1 y en menor medida 2 hogares por vivienda. Esto nos indica que no existe tanto hacinamiento de terreno. 2) Aún así hay valores que corresponden a 9 o 10 hogares por vivienda, lo que nos da un indicio de que en ciertos lugares las personas viven en situaciones de hacinamiento."
   ]
  },
  {
   "cell_type": "markdown",
   "id": "667f6be7",
   "metadata": {},
   "source": [
    "7.-Para la variables o25a_hr y o25c:"
   ]
  },
  {
   "cell_type": "code",
   "execution_count": 9,
   "id": "918dd9ae",
   "metadata": {},
   "outputs": [
    {
     "data": {
      "text/html": [
       "<div>\n",
       "<style scoped>\n",
       "    .dataframe tbody tr th:only-of-type {\n",
       "        vertical-align: middle;\n",
       "    }\n",
       "\n",
       "    .dataframe tbody tr th {\n",
       "        vertical-align: top;\n",
       "    }\n",
       "\n",
       "    .dataframe thead th {\n",
       "        text-align: right;\n",
       "    }\n",
       "</style>\n",
       "<table border=\"1\" class=\"dataframe\">\n",
       "  <thead>\n",
       "    <tr style=\"text-align: right;\">\n",
       "      <th></th>\n",
       "      <th>count</th>\n",
       "      <th>mean</th>\n",
       "      <th>std</th>\n",
       "      <th>min</th>\n",
       "      <th>25%</th>\n",
       "      <th>50%</th>\n",
       "      <th>75%</th>\n",
       "      <th>max</th>\n",
       "    </tr>\n",
       "    <tr>\n",
       "      <th>o25a_hr</th>\n",
       "      <th></th>\n",
       "      <th></th>\n",
       "      <th></th>\n",
       "      <th></th>\n",
       "      <th></th>\n",
       "      <th></th>\n",
       "      <th></th>\n",
       "      <th></th>\n",
       "    </tr>\n",
       "  </thead>\n",
       "  <tbody>\n",
       "    <tr>\n",
       "      <th>0.0</th>\n",
       "      <td>63750.0</td>\n",
       "      <td>2.090431</td>\n",
       "      <td>1.109523</td>\n",
       "      <td>1.0</td>\n",
       "      <td>1.0</td>\n",
       "      <td>2.0</td>\n",
       "      <td>3.0</td>\n",
       "      <td>9.0</td>\n",
       "    </tr>\n",
       "    <tr>\n",
       "      <th>1.0</th>\n",
       "      <td>13619.0</td>\n",
       "      <td>1.513694</td>\n",
       "      <td>0.822390</td>\n",
       "      <td>1.0</td>\n",
       "      <td>1.0</td>\n",
       "      <td>1.0</td>\n",
       "      <td>2.0</td>\n",
       "      <td>9.0</td>\n",
       "    </tr>\n",
       "    <tr>\n",
       "      <th>2.0</th>\n",
       "      <td>2508.0</td>\n",
       "      <td>1.529107</td>\n",
       "      <td>0.900489</td>\n",
       "      <td>1.0</td>\n",
       "      <td>1.0</td>\n",
       "      <td>1.0</td>\n",
       "      <td>2.0</td>\n",
       "      <td>9.0</td>\n",
       "    </tr>\n",
       "    <tr>\n",
       "      <th>3.0</th>\n",
       "      <td>740.0</td>\n",
       "      <td>1.852703</td>\n",
       "      <td>1.162649</td>\n",
       "      <td>1.0</td>\n",
       "      <td>1.0</td>\n",
       "      <td>2.0</td>\n",
       "      <td>2.0</td>\n",
       "      <td>9.0</td>\n",
       "    </tr>\n",
       "    <tr>\n",
       "      <th>99.0</th>\n",
       "      <td>483.0</td>\n",
       "      <td>5.498965</td>\n",
       "      <td>3.580361</td>\n",
       "      <td>1.0</td>\n",
       "      <td>2.0</td>\n",
       "      <td>9.0</td>\n",
       "      <td>9.0</td>\n",
       "      <td>9.0</td>\n",
       "    </tr>\n",
       "  </tbody>\n",
       "</table>\n",
       "</div>"
      ],
      "text/plain": [
       "           count      mean       std  min  25%  50%  75%  max\n",
       "o25a_hr                                                      \n",
       "0.0      63750.0  2.090431  1.109523  1.0  1.0  2.0  3.0  9.0\n",
       "1.0      13619.0  1.513694  0.822390  1.0  1.0  1.0  2.0  9.0\n",
       "2.0       2508.0  1.529107  0.900489  1.0  1.0  1.0  2.0  9.0\n",
       "3.0        740.0  1.852703  1.162649  1.0  1.0  2.0  2.0  9.0\n",
       "99.0       483.0  5.498965  3.580361  1.0  2.0  9.0  9.0  9.0"
      ]
     },
     "execution_count": 9,
     "metadata": {},
     "output_type": "execute_result"
    }
   ],
   "source": [
    "datos.groupby('o25a_hr')['o25c'].describe()"
   ]
  },
  {
   "cell_type": "markdown",
   "id": "4fadfabf",
   "metadata": {},
   "source": [
    "Interpretación de la Variable tot_par:      \n",
    "Media: Vemos que el promedio de viviendas por hogar es 1 vivienda  \n",
    "Des. Estándar: Como la desviación estándar es aprox. 0.39, esto nos indica que hay poca dispersión o variabilidad en los datos, los valores están relativamente cercanos a la media.   \n",
    "Min.: El minimo de viviendas por hogar es 1 vivienda  \n",
    "Max: El máximo de viviendas por hogar son 4 viviendas  "
   ]
  },
  {
   "cell_type": "code",
   "execution_count": 105,
   "id": "c8ef51b2",
   "metadata": {},
   "outputs": [
    {
     "data": {
      "image/png": "[encoded data removed]",
      "text/plain": [
       "<Figure size 600x600 with 1 Axes>"
      ]
     },
     "metadata": {},
     "output_type": "display_data"
    }
   ],
   "source": [
    "# Datos para el gráfico de torta\n",
    "sizes = [75067, 13619, 2508, 740]\n",
    "labels = ['0 horas', '1 hora', '2 horas', '3 horas']\n",
    "colors = ['#FFC300', '#FF5733', '#C70039', '#900C3F']\n",
    "\n",
    "# Crear el gráfico de torta\n",
    "plt.figure(figsize=(6, 6))\n",
    "plt.pie(sizes, labels=labels, colors=colors, autopct='%1.1f%%', startangle=90)\n",
    "\n",
    "# Título del gráfico\n",
    "plt.title('Tiempo en promedio que tardan en llegar las personas')\n",
    "\n",
    "# Mostrar el gráfico de torta\n",
    "plt.axis('equal')\n",
    "plt.show()"
   ]
  },
  {
   "cell_type": "markdown",
   "id": "3a5486c7",
   "metadata": {},
   "source": [
    "Conclusiones: 1)En promedio las personas demoran menos de 1 hora en llegar a sus trabajos, lo que indica que no tienen un tiempo de desplazamiento significativo o que trabajan cerca de su hogar. 2) Un porcentaje considerable de personas (alrededor del 14.8%) tardan 1 hora en promedio en un día habitual, lo que sugiere que quiza trabajan fuera de la urbe o que existe mucho desplazamiento de personas."
   ]
  },
  {
   "cell_type": "code",
   "execution_count": 122,
   "id": "bf7fd51b",
   "metadata": {},
   "outputs": [
    {
     "data": {
      "image/png": "[encoded data removed]",
      "text/plain": [
       "<Figure size 640x480 with 1 Axes>"
      ]
     },
     "metadata": {},
     "output_type": "display_data"
    }
   ],
   "source": [
    "# Datos del boxplot\n",
    "counts = [63750.0, 13619.0, 2508.0, 740.0, 483.0]\n",
    "mean = [2.090431, 1.513694, 1.529107, 1.852703, 5.498965]\n",
    "std = [1.109523, 0.822390, 0.900489, 1.162649, 3.580361]\n",
    "min_val = [1.0, 1.0, 1.0, 1.0, 1.0]\n",
    "q1 = [1.0, 1.0, 1.0, 1.0, 2.0]\n",
    "q2 = [2.0, 1.0, 1.0, 2.0, 9.0]\n",
    "q3 = [3.0, 2.0, 2.0, 2.0, 9.0]\n",
    "max_val = [9.0, 9.0, 9.0, 9.0, 9.0]\n",
    "\n",
    "# Crear el boxplot con color rojo\n",
    "plt.boxplot([mean, min_val, q1, q2, q3, max_val], widths=0.6, patch_artist=True,\n",
    "            boxprops=dict(facecolor='red', color='black'), medianprops=dict(color='black'))\n",
    "\n",
    "# Título y etiquetas de los ejes\n",
    "plt.title('Diagrama de Caja (Boxplot)')\n",
    "plt.xlabel('Variable o25a_hr')\n",
    "plt.ylabel('Valores')\n",
    "\n",
    "# Mostrar el boxplot\n",
    "plt.show()"
   ]
  },
  {
   "cell_type": "markdown",
   "id": "c060a507",
   "metadata": {},
   "source": [
    "Conclusiones: 1) Observamos que el rango intercuartílico (Q3 - Q1) es relativamente pequeño en comparación con la dispersión total de los datos. Esto sugiere que la mayoría de los valores se encuentran en un rango estrecho y no hay muchos valores atípicos o extremos. 2)  El valor medio varía significativamente entre las diferentes categorías de la variable o25a_hr. "
   ]
  },
  {
   "cell_type": "markdown",
   "id": "67dbf74f",
   "metadata": {},
   "source": [
    "8.- Para la variables r15 y  r14:"
   ]
  },
  {
   "cell_type": "code",
   "execution_count": 90,
   "id": "5f5fc935",
   "metadata": {},
   "outputs": [
    {
     "data": {
      "text/html": [
       "<div>\n",
       "<style scoped>\n",
       "    .dataframe tbody tr th:only-of-type {\n",
       "        vertical-align: middle;\n",
       "    }\n",
       "\n",
       "    .dataframe tbody tr th {\n",
       "        vertical-align: top;\n",
       "    }\n",
       "\n",
       "    .dataframe thead th {\n",
       "        text-align: right;\n",
       "    }\n",
       "</style>\n",
       "<table border=\"1\" class=\"dataframe\">\n",
       "  <thead>\n",
       "    <tr style=\"text-align: right;\">\n",
       "      <th></th>\n",
       "      <th>count</th>\n",
       "      <th>mean</th>\n",
       "      <th>std</th>\n",
       "      <th>min</th>\n",
       "      <th>25%</th>\n",
       "      <th>50%</th>\n",
       "      <th>75%</th>\n",
       "      <th>max</th>\n",
       "    </tr>\n",
       "    <tr>\n",
       "      <th>r15</th>\n",
       "      <th></th>\n",
       "      <th></th>\n",
       "      <th></th>\n",
       "      <th></th>\n",
       "      <th></th>\n",
       "      <th></th>\n",
       "      <th></th>\n",
       "      <th></th>\n",
       "    </tr>\n",
       "  </thead>\n",
       "  <tbody>\n",
       "    <tr>\n",
       "      <th>1.0</th>\n",
       "      <td>25631.0</td>\n",
       "      <td>1.0</td>\n",
       "      <td>0.0</td>\n",
       "      <td>1.0</td>\n",
       "      <td>1.0</td>\n",
       "      <td>1.0</td>\n",
       "      <td>1.0</td>\n",
       "      <td>1.0</td>\n",
       "    </tr>\n",
       "    <tr>\n",
       "      <th>2.0</th>\n",
       "      <td>4766.0</td>\n",
       "      <td>1.0</td>\n",
       "      <td>0.0</td>\n",
       "      <td>1.0</td>\n",
       "      <td>1.0</td>\n",
       "      <td>1.0</td>\n",
       "      <td>1.0</td>\n",
       "      <td>1.0</td>\n",
       "    </tr>\n",
       "    <tr>\n",
       "      <th>3.0</th>\n",
       "      <td>884.0</td>\n",
       "      <td>1.0</td>\n",
       "      <td>0.0</td>\n",
       "      <td>1.0</td>\n",
       "      <td>1.0</td>\n",
       "      <td>1.0</td>\n",
       "      <td>1.0</td>\n",
       "      <td>1.0</td>\n",
       "    </tr>\n",
       "    <tr>\n",
       "      <th>4.0</th>\n",
       "      <td>254.0</td>\n",
       "      <td>1.0</td>\n",
       "      <td>0.0</td>\n",
       "      <td>1.0</td>\n",
       "      <td>1.0</td>\n",
       "      <td>1.0</td>\n",
       "      <td>1.0</td>\n",
       "      <td>1.0</td>\n",
       "    </tr>\n",
       "    <tr>\n",
       "      <th>5.0</th>\n",
       "      <td>57.0</td>\n",
       "      <td>1.0</td>\n",
       "      <td>0.0</td>\n",
       "      <td>1.0</td>\n",
       "      <td>1.0</td>\n",
       "      <td>1.0</td>\n",
       "      <td>1.0</td>\n",
       "      <td>1.0</td>\n",
       "    </tr>\n",
       "    <tr>\n",
       "      <th>6.0</th>\n",
       "      <td>18.0</td>\n",
       "      <td>1.0</td>\n",
       "      <td>0.0</td>\n",
       "      <td>1.0</td>\n",
       "      <td>1.0</td>\n",
       "      <td>1.0</td>\n",
       "      <td>1.0</td>\n",
       "      <td>1.0</td>\n",
       "    </tr>\n",
       "    <tr>\n",
       "      <th>7.0</th>\n",
       "      <td>46.0</td>\n",
       "      <td>1.0</td>\n",
       "      <td>0.0</td>\n",
       "      <td>1.0</td>\n",
       "      <td>1.0</td>\n",
       "      <td>1.0</td>\n",
       "      <td>1.0</td>\n",
       "      <td>1.0</td>\n",
       "    </tr>\n",
       "    <tr>\n",
       "      <th>8.0</th>\n",
       "      <td>12.0</td>\n",
       "      <td>1.0</td>\n",
       "      <td>0.0</td>\n",
       "      <td>1.0</td>\n",
       "      <td>1.0</td>\n",
       "      <td>1.0</td>\n",
       "      <td>1.0</td>\n",
       "      <td>1.0</td>\n",
       "    </tr>\n",
       "    <tr>\n",
       "      <th>9.0</th>\n",
       "      <td>114.0</td>\n",
       "      <td>1.0</td>\n",
       "      <td>0.0</td>\n",
       "      <td>1.0</td>\n",
       "      <td>1.0</td>\n",
       "      <td>1.0</td>\n",
       "      <td>1.0</td>\n",
       "      <td>1.0</td>\n",
       "    </tr>\n",
       "    <tr>\n",
       "      <th>99.0</th>\n",
       "      <td>631.0</td>\n",
       "      <td>1.0</td>\n",
       "      <td>0.0</td>\n",
       "      <td>1.0</td>\n",
       "      <td>1.0</td>\n",
       "      <td>1.0</td>\n",
       "      <td>1.0</td>\n",
       "      <td>1.0</td>\n",
       "    </tr>\n",
       "  </tbody>\n",
       "</table>\n",
       "</div>"
      ],
      "text/plain": [
       "        count  mean  std  min  25%  50%  75%  max\n",
       "r15                                              \n",
       "1.0   25631.0   1.0  0.0  1.0  1.0  1.0  1.0  1.0\n",
       "2.0    4766.0   1.0  0.0  1.0  1.0  1.0  1.0  1.0\n",
       "3.0     884.0   1.0  0.0  1.0  1.0  1.0  1.0  1.0\n",
       "4.0     254.0   1.0  0.0  1.0  1.0  1.0  1.0  1.0\n",
       "5.0      57.0   1.0  0.0  1.0  1.0  1.0  1.0  1.0\n",
       "6.0      18.0   1.0  0.0  1.0  1.0  1.0  1.0  1.0\n",
       "7.0      46.0   1.0  0.0  1.0  1.0  1.0  1.0  1.0\n",
       "8.0      12.0   1.0  0.0  1.0  1.0  1.0  1.0  1.0\n",
       "9.0     114.0   1.0  0.0  1.0  1.0  1.0  1.0  1.0\n",
       "99.0    631.0   1.0  0.0  1.0  1.0  1.0  1.0  1.0"
      ]
     },
     "execution_count": 90,
     "metadata": {},
     "output_type": "execute_result"
    }
   ],
   "source": [
    "datos.groupby('r15')['r14'].describe()"
   ]
  },
  {
   "cell_type": "markdown",
   "id": "59732b4f",
   "metadata": {},
   "source": [
    "Interpretación de la Variable r15:      \n",
    "Media: Vemos que el promedio de autos por persona en el hogar es 1 vehículo    \n",
    "Des. Estándar: La desviación estándar es igual a 1, por lo que los datos están dispersos y tienen una variabilidad alta     \n",
    "Min.: El minimo de autos por persona en el hogar es 1   \n",
    "Max: El máximo de autos por persona en el hogar es 9  \n"
   ]
  },
  {
   "cell_type": "code",
   "execution_count": 101,
   "id": "2078c4b0",
   "metadata": {},
   "outputs": [
    {
     "data": {
      "image/png": "[encoded data removed]",
      "text/plain": [
       "<Figure size 600x500 with 1 Axes>"
      ]
     },
     "metadata": {},
     "output_type": "display_data"
    }
   ],
   "source": [
    "# Datos para el gráfico de barras\n",
    "cant_vehiculos = [1, 2, 3, 4, 5, 6, 7, 8, 9]\n",
    "cant_personas = [25631, 4766, 884, 254, 57, 18, 46, 12, 114]\n",
    "\n",
    "# Configurar el tamaño del gráfico\n",
    "plt.figure(figsize=(6, 5))\n",
    "\n",
    "# Crear el gráfico de barras\n",
    "plt.bar(cant_vehiculos, cant_personas, color='purple')\n",
    "\n",
    "# Título del gráfico de barras\n",
    "plt.title('Cantidad de vehículos y personas')\n",
    "\n",
    "# Etiquetas de los ejes\n",
    "plt.xlabel('Cantidad de vehículos')\n",
    "plt.ylabel('Cantidad de personas')\n",
    "\n",
    "# Mostrar el gráfico de barras\n",
    "plt.show()"
   ]
  },
  {
   "cell_type": "markdown",
   "id": "4c78fa20",
   "metadata": {},
   "source": [
    "Conclusiones: 1) Vemos que existe una clara tendencia a tener 1 solo auto por hogar. 2) Vemos que después del cuarto vehículo hay una gran diferencia entre los hogares que tienen más de 4 autos."
   ]
  },
  {
   "cell_type": "markdown",
   "id": "f49be6ad",
   "metadata": {},
   "source": [
    "### 5) Respuestas a las preguntas"
   ]
  },
  {
   "cell_type": "markdown",
   "id": "492d8693",
   "metadata": {},
   "source": [
    "1.- R= De las personas encuestadas que sabín leer y escribir, 305 habín participado de un programa de nivelación. Y eran un procentaje considerablemente (representan el 95.9% de los datos) mayor a las perosnas que son analfabetas y participan de estos cursos.\n"
   ]
  },
  {
   "cell_type": "markdown",
   "id": "1a4aeb6b",
   "metadata": {},
   "source": [
    "2.-R= Un total de 2433 personas asistieron a una Universidad estatal adscrita a gratuidad en 2017. Y son un porcentaje considerablemente mayor, 97%, de las Universidades a las que asisteron los encuestados que son estatales y no tienen gratuidad."
   ]
  },
  {
   "cell_type": "markdown",
   "id": "d26ede2e",
   "metadata": {},
   "source": [
    "3.- R= El porcentaje de personas en Cs. Físicas 3.08% fue significativamente bajo en comparación a la elección de carreras de Ingeniería y profesiones afines, y es mucho menor aún si lo comparamos con todas las otras carreras, representa un 0.12% por lo cual no fue una carrera muy popular entre los estudiantes."
   ]
  },
  {
   "cell_type": "markdown",
   "id": "60e590b9",
   "metadata": {},
   "source": [
    "4.-R= 21 personas egresadas de Ciencias naturales, matemáticas y estadística salieron de una Universidad\n",
    "Extranjera el 2017.\n"
   ]
  },
  {
   "cell_type": "markdown",
   "id": "b26d5591",
   "metadata": {},
   "source": [
    "5.-R= En promedio había una pareja casada por hogar encuestado."
   ]
  },
  {
   "cell_type": "markdown",
   "id": "be90f685",
   "metadata": {},
   "source": [
    "6.- R= En promedio había un solo hogar por vivienda."
   ]
  },
  {
   "cell_type": "markdown",
   "id": "90db86cc",
   "metadata": {},
   "source": [
    "7.-R= Un 3.5% de las personas encuestadas el 2017 demoraban más de 2hrs en llegar a su trabajo dado que se fueron a pie."
   ]
  },
  {
   "cell_type": "markdown",
   "id": "2ff0260c",
   "metadata": {},
   "source": [
    "8.-R=El promedio de autos por hogar en 2017 fue de 1 auto."
   ]
  }
 ],
 "metadata": {
  "kernelspec": {
   "display_name": "Python 3 (ipykernel)",
   "language": "python",
   "name": "python3"
  },
  "language_info": {
   "codemirror_mode": {
    "name": "ipython",
    "version": 3
   },
   "file_extension": ".py",
   "mimetype": "text/x-python",
   "name": "python",
   "nbconvert_exporter": "python",
   "pygments_lexer": "ipython3",
   "version": "3.10.9"
  }
 },
 "nbformat": 4,
 "nbformat_minor": 5
}
